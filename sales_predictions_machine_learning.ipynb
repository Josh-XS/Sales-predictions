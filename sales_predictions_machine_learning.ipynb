{
  "nbformat": 4,
  "nbformat_minor": 0,
  "metadata": {
    "colab": {
      "provenance": [],
      "collapsed_sections": [
        "-oMzikGzeWbJ",
        "JjIhyu9iyB5M",
        "6O-J_KTobZ-p"
      ],
      "authorship_tag": "ABX9TyNnfYk8WhwqdU1AxUnV3KTV",
      "include_colab_link": true
    },
    "kernelspec": {
      "name": "python3",
      "display_name": "Python 3"
    },
    "language_info": {
      "name": "python"
    }
  },
  "cells": [
    {
      "cell_type": "markdown",
      "metadata": {
        "id": "view-in-github",
        "colab_type": "text"
      },
      "source": [
        "<a href=\"https://colab.research.google.com/github/Josh-XS/sales-predictions/blob/main/sales_predictions_machine_learning.ipynb\" target=\"_parent\"><img src=\"https://colab.research.google.com/assets/colab-badge.svg\" alt=\"Open In Colab\"/></a>"
      ]
    },
    {
      "cell_type": "markdown",
      "source": [
        "#Project1"
      ],
      "metadata": {
        "id": "cV_8DKCcahh4"
      }
    },
    {
      "cell_type": "markdown",
      "source": [
        "Joshua Nickell"
      ],
      "metadata": {
        "id": "vhsbbzQPasg2"
      }
    },
    {
      "cell_type": "markdown",
      "source": [
        "##Loading Data"
      ],
      "metadata": {
        "id": "amnWIM8Kavjb"
      }
    },
    {
      "cell_type": "code",
      "source": [
        "# import libraries\n",
        "import pandas as pd\n",
        "import numpy as np\n",
        "from sklearn.preprocessing import StandardScaler, OneHotEncoder\n",
        "from sklearn.impute import SimpleImputer\n",
        "from sklearn.compose import make_column_transformer, make_column_selector\n",
        "from sklearn.pipeline import make_pipeline\n",
        "from sklearn.model_selection import train_test_split\n",
        "from sklearn import set_config\n",
        "from sklearn.linear_model import LinearRegression\n",
        "from sklearn.model_selection import train_test_split\n",
        "from sklearn.metrics import mean_absolute_error, mean_squared_error, r2_score\n",
        "from sklearn.tree import DecisionTreeRegressor\n",
        "from sklearn.ensemble import BaggingRegressor\n",
        "from sklearn.ensemble import RandomForestRegressor\n",
        "set_config(display='diagram')"
      ],
      "metadata": {
        "id": "bVNz9RutJ9Oe"
      },
      "execution_count": null,
      "outputs": []
    },
    {
      "cell_type": "code",
      "source": [
        "#load the data\n",
        "df.head()"
      ],
      "metadata": {
        "id": "UdgED13WKFoU",
        "colab": {
          "base_uri": "https://localhost:8080/",
          "height": 357
        },
        "outputId": "47f4c90b-d209-4610-d843-51b1599027e8"
      },
      "execution_count": null,
      "outputs": [
        {
          "output_type": "execute_result",
          "data": {
            "text/plain": [
              "  Item_Identifier  Item_Weight Item_Fat_Content  Item_Visibility  \\\n",
              "0           FDA15         9.30          Low Fat         0.016047   \n",
              "1           DRC01         5.92          Regular         0.019278   \n",
              "2           FDN15        17.50          Low Fat         0.016760   \n",
              "3           FDX07        19.20          Regular         0.000000   \n",
              "4           NCD19         8.93          Low Fat         0.000000   \n",
              "\n",
              "               Item_Type  Item_MRP Outlet_Identifier  \\\n",
              "0                  Dairy  249.8092            OUT049   \n",
              "1            Soft Drinks   48.2692            OUT018   \n",
              "2                   Meat  141.6180            OUT049   \n",
              "3  Fruits and Vegetables  182.0950            OUT010   \n",
              "4              Household   53.8614            OUT013   \n",
              "\n",
              "   Outlet_Establishment_Year Outlet_Size Outlet_Location_Type  \\\n",
              "0                       1999      Medium               Tier 1   \n",
              "1                       2009      Medium               Tier 3   \n",
              "2                       1999      Medium               Tier 1   \n",
              "3                       1998         NaN               Tier 3   \n",
              "4                       1987        High               Tier 3   \n",
              "\n",
              "         Outlet_Type  Item_Outlet_Sales  \n",
              "0  Supermarket Type1          3735.1380  \n",
              "1  Supermarket Type2           443.4228  \n",
              "2  Supermarket Type1          2097.2700  \n",
              "3      Grocery Store           732.3800  \n",
              "4  Supermarket Type1           994.7052  "
            ],
            "text/html": [
              "\n",
              "  <div id=\"df-8e651b4d-6bde-4c55-90f9-70d3e62ffed2\">\n",
              "    <div class=\"colab-df-container\">\n",
              "      <div>\n",
              "<style scoped>\n",
              "    .dataframe tbody tr th:only-of-type {\n",
              "        vertical-align: middle;\n",
              "    }\n",
              "\n",
              "    .dataframe tbody tr th {\n",
              "        vertical-align: top;\n",
              "    }\n",
              "\n",
              "    .dataframe thead th {\n",
              "        text-align: right;\n",
              "    }\n",
              "</style>\n",
              "<table border=\"1\" class=\"dataframe\">\n",
              "  <thead>\n",
              "    <tr style=\"text-align: right;\">\n",
              "      <th></th>\n",
              "      <th>Item_Identifier</th>\n",
              "      <th>Item_Weight</th>\n",
              "      <th>Item_Fat_Content</th>\n",
              "      <th>Item_Visibility</th>\n",
              "      <th>Item_Type</th>\n",
              "      <th>Item_MRP</th>\n",
              "      <th>Outlet_Identifier</th>\n",
              "      <th>Outlet_Establishment_Year</th>\n",
              "      <th>Outlet_Size</th>\n",
              "      <th>Outlet_Location_Type</th>\n",
              "      <th>Outlet_Type</th>\n",
              "      <th>Item_Outlet_Sales</th>\n",
              "    </tr>\n",
              "  </thead>\n",
              "  <tbody>\n",
              "    <tr>\n",
              "      <th>0</th>\n",
              "      <td>FDA15</td>\n",
              "      <td>9.30</td>\n",
              "      <td>Low Fat</td>\n",
              "      <td>0.016047</td>\n",
              "      <td>Dairy</td>\n",
              "      <td>249.8092</td>\n",
              "      <td>OUT049</td>\n",
              "      <td>1999</td>\n",
              "      <td>Medium</td>\n",
              "      <td>Tier 1</td>\n",
              "      <td>Supermarket Type1</td>\n",
              "      <td>3735.1380</td>\n",
              "    </tr>\n",
              "    <tr>\n",
              "      <th>1</th>\n",
              "      <td>DRC01</td>\n",
              "      <td>5.92</td>\n",
              "      <td>Regular</td>\n",
              "      <td>0.019278</td>\n",
              "      <td>Soft Drinks</td>\n",
              "      <td>48.2692</td>\n",
              "      <td>OUT018</td>\n",
              "      <td>2009</td>\n",
              "      <td>Medium</td>\n",
              "      <td>Tier 3</td>\n",
              "      <td>Supermarket Type2</td>\n",
              "      <td>443.4228</td>\n",
              "    </tr>\n",
              "    <tr>\n",
              "      <th>2</th>\n",
              "      <td>FDN15</td>\n",
              "      <td>17.50</td>\n",
              "      <td>Low Fat</td>\n",
              "      <td>0.016760</td>\n",
              "      <td>Meat</td>\n",
              "      <td>141.6180</td>\n",
              "      <td>OUT049</td>\n",
              "      <td>1999</td>\n",
              "      <td>Medium</td>\n",
              "      <td>Tier 1</td>\n",
              "      <td>Supermarket Type1</td>\n",
              "      <td>2097.2700</td>\n",
              "    </tr>\n",
              "    <tr>\n",
              "      <th>3</th>\n",
              "      <td>FDX07</td>\n",
              "      <td>19.20</td>\n",
              "      <td>Regular</td>\n",
              "      <td>0.000000</td>\n",
              "      <td>Fruits and Vegetables</td>\n",
              "      <td>182.0950</td>\n",
              "      <td>OUT010</td>\n",
              "      <td>1998</td>\n",
              "      <td>NaN</td>\n",
              "      <td>Tier 3</td>\n",
              "      <td>Grocery Store</td>\n",
              "      <td>732.3800</td>\n",
              "    </tr>\n",
              "    <tr>\n",
              "      <th>4</th>\n",
              "      <td>NCD19</td>\n",
              "      <td>8.93</td>\n",
              "      <td>Low Fat</td>\n",
              "      <td>0.000000</td>\n",
              "      <td>Household</td>\n",
              "      <td>53.8614</td>\n",
              "      <td>OUT013</td>\n",
              "      <td>1987</td>\n",
              "      <td>High</td>\n",
              "      <td>Tier 3</td>\n",
              "      <td>Supermarket Type1</td>\n",
              "      <td>994.7052</td>\n",
              "    </tr>\n",
              "  </tbody>\n",
              "</table>\n",
              "</div>\n",
              "      <button class=\"colab-df-convert\" onclick=\"convertToInteractive('df-8e651b4d-6bde-4c55-90f9-70d3e62ffed2')\"\n",
              "              title=\"Convert this dataframe to an interactive table.\"\n",
              "              style=\"display:none;\">\n",
              "        \n",
              "  <svg xmlns=\"http://www.w3.org/2000/svg\" height=\"24px\"viewBox=\"0 0 24 24\"\n",
              "       width=\"24px\">\n",
              "    <path d=\"M0 0h24v24H0V0z\" fill=\"none\"/>\n",
              "    <path d=\"M18.56 5.44l.94 2.06.94-2.06 2.06-.94-2.06-.94-.94-2.06-.94 2.06-2.06.94zm-11 1L8.5 8.5l.94-2.06 2.06-.94-2.06-.94L8.5 2.5l-.94 2.06-2.06.94zm10 10l.94 2.06.94-2.06 2.06-.94-2.06-.94-.94-2.06-.94 2.06-2.06.94z\"/><path d=\"M17.41 7.96l-1.37-1.37c-.4-.4-.92-.59-1.43-.59-.52 0-1.04.2-1.43.59L10.3 9.45l-7.72 7.72c-.78.78-.78 2.05 0 2.83L4 21.41c.39.39.9.59 1.41.59.51 0 1.02-.2 1.41-.59l7.78-7.78 2.81-2.81c.8-.78.8-2.07 0-2.86zM5.41 20L4 18.59l7.72-7.72 1.47 1.35L5.41 20z\"/>\n",
              "  </svg>\n",
              "      </button>\n",
              "      \n",
              "  <style>\n",
              "    .colab-df-container {\n",
              "      display:flex;\n",
              "      flex-wrap:wrap;\n",
              "      gap: 12px;\n",
              "    }\n",
              "\n",
              "    .colab-df-convert {\n",
              "      background-color: #E8F0FE;\n",
              "      border: none;\n",
              "      border-radius: 50%;\n",
              "      cursor: pointer;\n",
              "      display: none;\n",
              "      fill: #1967D2;\n",
              "      height: 32px;\n",
              "      padding: 0 0 0 0;\n",
              "      width: 32px;\n",
              "    }\n",
              "\n",
              "    .colab-df-convert:hover {\n",
              "      background-color: #E2EBFA;\n",
              "      box-shadow: 0px 1px 2px rgba(60, 64, 67, 0.3), 0px 1px 3px 1px rgba(60, 64, 67, 0.15);\n",
              "      fill: #174EA6;\n",
              "    }\n",
              "\n",
              "    [theme=dark] .colab-df-convert {\n",
              "      background-color: #3B4455;\n",
              "      fill: #D2E3FC;\n",
              "    }\n",
              "\n",
              "    [theme=dark] .colab-df-convert:hover {\n",
              "      background-color: #434B5C;\n",
              "      box-shadow: 0px 1px 3px 1px rgba(0, 0, 0, 0.15);\n",
              "      filter: drop-shadow(0px 1px 2px rgba(0, 0, 0, 0.3));\n",
              "      fill: #FFFFFF;\n",
              "    }\n",
              "  </style>\n",
              "\n",
              "      <script>\n",
              "        const buttonEl =\n",
              "          document.querySelector('#df-8e651b4d-6bde-4c55-90f9-70d3e62ffed2 button.colab-df-convert');\n",
              "        buttonEl.style.display =\n",
              "          google.colab.kernel.accessAllowed ? 'block' : 'none';\n",
              "\n",
              "        async function convertToInteractive(key) {\n",
              "          const element = document.querySelector('#df-8e651b4d-6bde-4c55-90f9-70d3e62ffed2');\n",
              "          const dataTable =\n",
              "            await google.colab.kernel.invokeFunction('convertToInteractive',\n",
              "                                                     [key], {});\n",
              "          if (!dataTable) return;\n",
              "\n",
              "          const docLinkHtml = 'Like what you see? Visit the ' +\n",
              "            '<a target=\"_blank\" href=https://colab.research.google.com/notebooks/data_table.ipynb>data table notebook</a>'\n",
              "            + ' to learn more about interactive tables.';\n",
              "          element.innerHTML = '';\n",
              "          dataTable['output_type'] = 'display_data';\n",
              "          await google.colab.output.renderOutput(dataTable, element);\n",
              "          const docLink = document.createElement('div');\n",
              "          docLink.innerHTML = docLinkHtml;\n",
              "          element.appendChild(docLink);\n",
              "        }\n",
              "      </script>\n",
              "    </div>\n",
              "  </div>\n",
              "  "
            ]
          },
          "metadata": {},
          "execution_count": 646
        }
      ]
    },
    {
      "cell_type": "code",
      "source": [
        "df.describe()"
      ],
      "metadata": {
        "colab": {
          "base_uri": "https://localhost:8080/",
          "height": 364
        },
        "id": "k8UZFJVMM23l",
        "outputId": "45474921-3c2b-487e-f7d0-e5a96bce3ba4"
      },
      "execution_count": null,
      "outputs": [
        {
          "output_type": "execute_result",
          "data": {
            "text/plain": [
              "       Item_Weight  Item_Visibility     Item_MRP  Outlet_Establishment_Year  \\\n",
              "count  7060.000000      8523.000000  8523.000000                8523.000000   \n",
              "mean     12.857645         0.066132   140.992782                1997.831867   \n",
              "std       4.643456         0.051598    62.275067                   8.371760   \n",
              "min       4.555000         0.000000    31.290000                1985.000000   \n",
              "25%       8.773750         0.026989    93.826500                1987.000000   \n",
              "50%      12.600000         0.053931   143.012800                1999.000000   \n",
              "75%      16.850000         0.094585   185.643700                2004.000000   \n",
              "max      21.350000         0.328391   266.888400                2009.000000   \n",
              "\n",
              "       Item_Outlet_Sales  \n",
              "count        8523.000000  \n",
              "mean         2181.288914  \n",
              "std          1706.499616  \n",
              "min            33.290000  \n",
              "25%           834.247400  \n",
              "50%          1794.331000  \n",
              "75%          3101.296400  \n",
              "max         13086.964800  "
            ],
            "text/html": [
              "\n",
              "  <div id=\"df-0bd860d6-582e-48bf-b408-6ca58844ce6d\">\n",
              "    <div class=\"colab-df-container\">\n",
              "      <div>\n",
              "<style scoped>\n",
              "    .dataframe tbody tr th:only-of-type {\n",
              "        vertical-align: middle;\n",
              "    }\n",
              "\n",
              "    .dataframe tbody tr th {\n",
              "        vertical-align: top;\n",
              "    }\n",
              "\n",
              "    .dataframe thead th {\n",
              "        text-align: right;\n",
              "    }\n",
              "</style>\n",
              "<table border=\"1\" class=\"dataframe\">\n",
              "  <thead>\n",
              "    <tr style=\"text-align: right;\">\n",
              "      <th></th>\n",
              "      <th>Item_Weight</th>\n",
              "      <th>Item_Visibility</th>\n",
              "      <th>Item_MRP</th>\n",
              "      <th>Outlet_Establishment_Year</th>\n",
              "      <th>Item_Outlet_Sales</th>\n",
              "    </tr>\n",
              "  </thead>\n",
              "  <tbody>\n",
              "    <tr>\n",
              "      <th>count</th>\n",
              "      <td>7060.000000</td>\n",
              "      <td>8523.000000</td>\n",
              "      <td>8523.000000</td>\n",
              "      <td>8523.000000</td>\n",
              "      <td>8523.000000</td>\n",
              "    </tr>\n",
              "    <tr>\n",
              "      <th>mean</th>\n",
              "      <td>12.857645</td>\n",
              "      <td>0.066132</td>\n",
              "      <td>140.992782</td>\n",
              "      <td>1997.831867</td>\n",
              "      <td>2181.288914</td>\n",
              "    </tr>\n",
              "    <tr>\n",
              "      <th>std</th>\n",
              "      <td>4.643456</td>\n",
              "      <td>0.051598</td>\n",
              "      <td>62.275067</td>\n",
              "      <td>8.371760</td>\n",
              "      <td>1706.499616</td>\n",
              "    </tr>\n",
              "    <tr>\n",
              "      <th>min</th>\n",
              "      <td>4.555000</td>\n",
              "      <td>0.000000</td>\n",
              "      <td>31.290000</td>\n",
              "      <td>1985.000000</td>\n",
              "      <td>33.290000</td>\n",
              "    </tr>\n",
              "    <tr>\n",
              "      <th>25%</th>\n",
              "      <td>8.773750</td>\n",
              "      <td>0.026989</td>\n",
              "      <td>93.826500</td>\n",
              "      <td>1987.000000</td>\n",
              "      <td>834.247400</td>\n",
              "    </tr>\n",
              "    <tr>\n",
              "      <th>50%</th>\n",
              "      <td>12.600000</td>\n",
              "      <td>0.053931</td>\n",
              "      <td>143.012800</td>\n",
              "      <td>1999.000000</td>\n",
              "      <td>1794.331000</td>\n",
              "    </tr>\n",
              "    <tr>\n",
              "      <th>75%</th>\n",
              "      <td>16.850000</td>\n",
              "      <td>0.094585</td>\n",
              "      <td>185.643700</td>\n",
              "      <td>2004.000000</td>\n",
              "      <td>3101.296400</td>\n",
              "    </tr>\n",
              "    <tr>\n",
              "      <th>max</th>\n",
              "      <td>21.350000</td>\n",
              "      <td>0.328391</td>\n",
              "      <td>266.888400</td>\n",
              "      <td>2009.000000</td>\n",
              "      <td>13086.964800</td>\n",
              "    </tr>\n",
              "  </tbody>\n",
              "</table>\n",
              "</div>\n",
              "      <button class=\"colab-df-convert\" onclick=\"convertToInteractive('df-0bd860d6-582e-48bf-b408-6ca58844ce6d')\"\n",
              "              title=\"Convert this dataframe to an interactive table.\"\n",
              "              style=\"display:none;\">\n",
              "        \n",
              "  <svg xmlns=\"http://www.w3.org/2000/svg\" height=\"24px\"viewBox=\"0 0 24 24\"\n",
              "       width=\"24px\">\n",
              "    <path d=\"M0 0h24v24H0V0z\" fill=\"none\"/>\n",
              "    <path d=\"M18.56 5.44l.94 2.06.94-2.06 2.06-.94-2.06-.94-.94-2.06-.94 2.06-2.06.94zm-11 1L8.5 8.5l.94-2.06 2.06-.94-2.06-.94L8.5 2.5l-.94 2.06-2.06.94zm10 10l.94 2.06.94-2.06 2.06-.94-2.06-.94-.94-2.06-.94 2.06-2.06.94z\"/><path d=\"M17.41 7.96l-1.37-1.37c-.4-.4-.92-.59-1.43-.59-.52 0-1.04.2-1.43.59L10.3 9.45l-7.72 7.72c-.78.78-.78 2.05 0 2.83L4 21.41c.39.39.9.59 1.41.59.51 0 1.02-.2 1.41-.59l7.78-7.78 2.81-2.81c.8-.78.8-2.07 0-2.86zM5.41 20L4 18.59l7.72-7.72 1.47 1.35L5.41 20z\"/>\n",
              "  </svg>\n",
              "      </button>\n",
              "      \n",
              "  <style>\n",
              "    .colab-df-container {\n",
              "      display:flex;\n",
              "      flex-wrap:wrap;\n",
              "      gap: 12px;\n",
              "    }\n",
              "\n",
              "    .colab-df-convert {\n",
              "      background-color: #E8F0FE;\n",
              "      border: none;\n",
              "      border-radius: 50%;\n",
              "      cursor: pointer;\n",
              "      display: none;\n",
              "      fill: #1967D2;\n",
              "      height: 32px;\n",
              "      padding: 0 0 0 0;\n",
              "      width: 32px;\n",
              "    }\n",
              "\n",
              "    .colab-df-convert:hover {\n",
              "      background-color: #E2EBFA;\n",
              "      box-shadow: 0px 1px 2px rgba(60, 64, 67, 0.3), 0px 1px 3px 1px rgba(60, 64, 67, 0.15);\n",
              "      fill: #174EA6;\n",
              "    }\n",
              "\n",
              "    [theme=dark] .colab-df-convert {\n",
              "      background-color: #3B4455;\n",
              "      fill: #D2E3FC;\n",
              "    }\n",
              "\n",
              "    [theme=dark] .colab-df-convert:hover {\n",
              "      background-color: #434B5C;\n",
              "      box-shadow: 0px 1px 3px 1px rgba(0, 0, 0, 0.15);\n",
              "      filter: drop-shadow(0px 1px 2px rgba(0, 0, 0, 0.3));\n",
              "      fill: #FFFFFF;\n",
              "    }\n",
              "  </style>\n",
              "\n",
              "      <script>\n",
              "        const buttonEl =\n",
              "          document.querySelector('#df-0bd860d6-582e-48bf-b408-6ca58844ce6d button.colab-df-convert');\n",
              "        buttonEl.style.display =\n",
              "          google.colab.kernel.accessAllowed ? 'block' : 'none';\n",
              "\n",
              "        async function convertToInteractive(key) {\n",
              "          const element = document.querySelector('#df-0bd860d6-582e-48bf-b408-6ca58844ce6d');\n",
              "          const dataTable =\n",
              "            await google.colab.kernel.invokeFunction('convertToInteractive',\n",
              "                                                     [key], {});\n",
              "          if (!dataTable) return;\n",
              "\n",
              "          const docLinkHtml = 'Like what you see? Visit the ' +\n",
              "            '<a target=\"_blank\" href=https://colab.research.google.com/notebooks/data_table.ipynb>data table notebook</a>'\n",
              "            + ' to learn more about interactive tables.';\n",
              "          element.innerHTML = '';\n",
              "          dataTable['output_type'] = 'display_data';\n",
              "          await google.colab.output.renderOutput(dataTable, element);\n",
              "          const docLink = document.createElement('div');\n",
              "          docLink.innerHTML = docLinkHtml;\n",
              "          element.appendChild(docLink);\n",
              "        }\n",
              "      </script>\n",
              "    </div>\n",
              "  </div>\n",
              "  "
            ]
          },
          "metadata": {},
          "execution_count": 647
        }
      ]
    },
    {
      "cell_type": "markdown",
      "source": [
        "##Data Cleaning"
      ],
      "metadata": {
        "id": "d_fwVvpIbFdI"
      }
    },
    {
      "cell_type": "markdown",
      "source": [
        "###Identify Duplicates"
      ],
      "metadata": {
        "id": "E0cAurG3MqAQ"
      }
    },
    {
      "cell_type": "code",
      "source": [
        "df.duplicated().sum()"
      ],
      "metadata": {
        "colab": {
          "base_uri": "https://localhost:8080/"
        },
        "id": "4sTX-uI8MuD8",
        "outputId": "b645e896-7eca-4452-cc62-8cdedf4bf2f9"
      },
      "execution_count": null,
      "outputs": [
        {
          "output_type": "execute_result",
          "data": {
            "text/plain": [
              "0"
            ]
          },
          "metadata": {},
          "execution_count": 648
        }
      ]
    },
    {
      "cell_type": "markdown",
      "source": [
        "There are no duplicates."
      ],
      "metadata": {
        "id": "Uf-bHgfnNYFM"
      }
    },
    {
      "cell_type": "markdown",
      "source": [
        "###Drop Unnescesary Columns"
      ],
      "metadata": {
        "id": "yinf135DCkeJ"
      }
    },
    {
      "cell_type": "code",
      "source": [
        "df.drop(columns = ['Item_Identifier','Outlet_Identifier','Outlet_Establishment_Year'], axis = 1, inplace = True)\n",
        "df.head()"
      ],
      "metadata": {
        "colab": {
          "base_uri": "https://localhost:8080/",
          "height": 357
        },
        "id": "uWX3dBhDCywi",
        "outputId": "cc4ed884-872f-4162-9b91-4ceb1fb943c6"
      },
      "execution_count": null,
      "outputs": [
        {
          "output_type": "execute_result",
          "data": {
            "text/plain": [
              "   Item_Weight Item_Fat_Content  Item_Visibility              Item_Type  \\\n",
              "0         9.30          Low Fat         0.016047                  Dairy   \n",
              "1         5.92          Regular         0.019278            Soft Drinks   \n",
              "2        17.50          Low Fat         0.016760                   Meat   \n",
              "3        19.20          Regular         0.000000  Fruits and Vegetables   \n",
              "4         8.93          Low Fat         0.000000              Household   \n",
              "\n",
              "   Item_MRP Outlet_Size Outlet_Location_Type        Outlet_Type  \\\n",
              "0  249.8092      Medium               Tier 1  Supermarket Type1   \n",
              "1   48.2692      Medium               Tier 3  Supermarket Type2   \n",
              "2  141.6180      Medium               Tier 1  Supermarket Type1   \n",
              "3  182.0950         NaN               Tier 3      Grocery Store   \n",
              "4   53.8614        High               Tier 3  Supermarket Type1   \n",
              "\n",
              "   Item_Outlet_Sales  \n",
              "0          3735.1380  \n",
              "1           443.4228  \n",
              "2          2097.2700  \n",
              "3           732.3800  \n",
              "4           994.7052  "
            ],
            "text/html": [
              "\n",
              "  <div id=\"df-4c1985f5-121d-4375-931d-c87965f2a1a9\">\n",
              "    <div class=\"colab-df-container\">\n",
              "      <div>\n",
              "<style scoped>\n",
              "    .dataframe tbody tr th:only-of-type {\n",
              "        vertical-align: middle;\n",
              "    }\n",
              "\n",
              "    .dataframe tbody tr th {\n",
              "        vertical-align: top;\n",
              "    }\n",
              "\n",
              "    .dataframe thead th {\n",
              "        text-align: right;\n",
              "    }\n",
              "</style>\n",
              "<table border=\"1\" class=\"dataframe\">\n",
              "  <thead>\n",
              "    <tr style=\"text-align: right;\">\n",
              "      <th></th>\n",
              "      <th>Item_Weight</th>\n",
              "      <th>Item_Fat_Content</th>\n",
              "      <th>Item_Visibility</th>\n",
              "      <th>Item_Type</th>\n",
              "      <th>Item_MRP</th>\n",
              "      <th>Outlet_Size</th>\n",
              "      <th>Outlet_Location_Type</th>\n",
              "      <th>Outlet_Type</th>\n",
              "      <th>Item_Outlet_Sales</th>\n",
              "    </tr>\n",
              "  </thead>\n",
              "  <tbody>\n",
              "    <tr>\n",
              "      <th>0</th>\n",
              "      <td>9.30</td>\n",
              "      <td>Low Fat</td>\n",
              "      <td>0.016047</td>\n",
              "      <td>Dairy</td>\n",
              "      <td>249.8092</td>\n",
              "      <td>Medium</td>\n",
              "      <td>Tier 1</td>\n",
              "      <td>Supermarket Type1</td>\n",
              "      <td>3735.1380</td>\n",
              "    </tr>\n",
              "    <tr>\n",
              "      <th>1</th>\n",
              "      <td>5.92</td>\n",
              "      <td>Regular</td>\n",
              "      <td>0.019278</td>\n",
              "      <td>Soft Drinks</td>\n",
              "      <td>48.2692</td>\n",
              "      <td>Medium</td>\n",
              "      <td>Tier 3</td>\n",
              "      <td>Supermarket Type2</td>\n",
              "      <td>443.4228</td>\n",
              "    </tr>\n",
              "    <tr>\n",
              "      <th>2</th>\n",
              "      <td>17.50</td>\n",
              "      <td>Low Fat</td>\n",
              "      <td>0.016760</td>\n",
              "      <td>Meat</td>\n",
              "      <td>141.6180</td>\n",
              "      <td>Medium</td>\n",
              "      <td>Tier 1</td>\n",
              "      <td>Supermarket Type1</td>\n",
              "      <td>2097.2700</td>\n",
              "    </tr>\n",
              "    <tr>\n",
              "      <th>3</th>\n",
              "      <td>19.20</td>\n",
              "      <td>Regular</td>\n",
              "      <td>0.000000</td>\n",
              "      <td>Fruits and Vegetables</td>\n",
              "      <td>182.0950</td>\n",
              "      <td>NaN</td>\n",
              "      <td>Tier 3</td>\n",
              "      <td>Grocery Store</td>\n",
              "      <td>732.3800</td>\n",
              "    </tr>\n",
              "    <tr>\n",
              "      <th>4</th>\n",
              "      <td>8.93</td>\n",
              "      <td>Low Fat</td>\n",
              "      <td>0.000000</td>\n",
              "      <td>Household</td>\n",
              "      <td>53.8614</td>\n",
              "      <td>High</td>\n",
              "      <td>Tier 3</td>\n",
              "      <td>Supermarket Type1</td>\n",
              "      <td>994.7052</td>\n",
              "    </tr>\n",
              "  </tbody>\n",
              "</table>\n",
              "</div>\n",
              "      <button class=\"colab-df-convert\" onclick=\"convertToInteractive('df-4c1985f5-121d-4375-931d-c87965f2a1a9')\"\n",
              "              title=\"Convert this dataframe to an interactive table.\"\n",
              "              style=\"display:none;\">\n",
              "        \n",
              "  <svg xmlns=\"http://www.w3.org/2000/svg\" height=\"24px\"viewBox=\"0 0 24 24\"\n",
              "       width=\"24px\">\n",
              "    <path d=\"M0 0h24v24H0V0z\" fill=\"none\"/>\n",
              "    <path d=\"M18.56 5.44l.94 2.06.94-2.06 2.06-.94-2.06-.94-.94-2.06-.94 2.06-2.06.94zm-11 1L8.5 8.5l.94-2.06 2.06-.94-2.06-.94L8.5 2.5l-.94 2.06-2.06.94zm10 10l.94 2.06.94-2.06 2.06-.94-2.06-.94-.94-2.06-.94 2.06-2.06.94z\"/><path d=\"M17.41 7.96l-1.37-1.37c-.4-.4-.92-.59-1.43-.59-.52 0-1.04.2-1.43.59L10.3 9.45l-7.72 7.72c-.78.78-.78 2.05 0 2.83L4 21.41c.39.39.9.59 1.41.59.51 0 1.02-.2 1.41-.59l7.78-7.78 2.81-2.81c.8-.78.8-2.07 0-2.86zM5.41 20L4 18.59l7.72-7.72 1.47 1.35L5.41 20z\"/>\n",
              "  </svg>\n",
              "      </button>\n",
              "      \n",
              "  <style>\n",
              "    .colab-df-container {\n",
              "      display:flex;\n",
              "      flex-wrap:wrap;\n",
              "      gap: 12px;\n",
              "    }\n",
              "\n",
              "    .colab-df-convert {\n",
              "      background-color: #E8F0FE;\n",
              "      border: none;\n",
              "      border-radius: 50%;\n",
              "      cursor: pointer;\n",
              "      display: none;\n",
              "      fill: #1967D2;\n",
              "      height: 32px;\n",
              "      padding: 0 0 0 0;\n",
              "      width: 32px;\n",
              "    }\n",
              "\n",
              "    .colab-df-convert:hover {\n",
              "      background-color: #E2EBFA;\n",
              "      box-shadow: 0px 1px 2px rgba(60, 64, 67, 0.3), 0px 1px 3px 1px rgba(60, 64, 67, 0.15);\n",
              "      fill: #174EA6;\n",
              "    }\n",
              "\n",
              "    [theme=dark] .colab-df-convert {\n",
              "      background-color: #3B4455;\n",
              "      fill: #D2E3FC;\n",
              "    }\n",
              "\n",
              "    [theme=dark] .colab-df-convert:hover {\n",
              "      background-color: #434B5C;\n",
              "      box-shadow: 0px 1px 3px 1px rgba(0, 0, 0, 0.15);\n",
              "      filter: drop-shadow(0px 1px 2px rgba(0, 0, 0, 0.3));\n",
              "      fill: #FFFFFF;\n",
              "    }\n",
              "  </style>\n",
              "\n",
              "      <script>\n",
              "        const buttonEl =\n",
              "          document.querySelector('#df-4c1985f5-121d-4375-931d-c87965f2a1a9 button.colab-df-convert');\n",
              "        buttonEl.style.display =\n",
              "          google.colab.kernel.accessAllowed ? 'block' : 'none';\n",
              "\n",
              "        async function convertToInteractive(key) {\n",
              "          const element = document.querySelector('#df-4c1985f5-121d-4375-931d-c87965f2a1a9');\n",
              "          const dataTable =\n",
              "            await google.colab.kernel.invokeFunction('convertToInteractive',\n",
              "                                                     [key], {});\n",
              "          if (!dataTable) return;\n",
              "\n",
              "          const docLinkHtml = 'Like what you see? Visit the ' +\n",
              "            '<a target=\"_blank\" href=https://colab.research.google.com/notebooks/data_table.ipynb>data table notebook</a>'\n",
              "            + ' to learn more about interactive tables.';\n",
              "          element.innerHTML = '';\n",
              "          dataTable['output_type'] = 'display_data';\n",
              "          await google.colab.output.renderOutput(dataTable, element);\n",
              "          const docLink = document.createElement('div');\n",
              "          docLink.innerHTML = docLinkHtml;\n",
              "          element.appendChild(docLink);\n",
              "        }\n",
              "      </script>\n",
              "    </div>\n",
              "  </div>\n",
              "  "
            ]
          },
          "metadata": {},
          "execution_count": 649
        }
      ]
    },
    {
      "cell_type": "markdown",
      "source": [
        "These 3 columns would have no impact on our target, which is why they were dropped."
      ],
      "metadata": {
        "id": "r7eknsh2xmNr"
      }
    },
    {
      "cell_type": "markdown",
      "source": [
        "### Check For Inconsistencies"
      ],
      "metadata": {
        "id": "tUoapOkuciFZ"
      }
    },
    {
      "cell_type": "markdown",
      "source": [
        "I need to create a loop to find any inconsistencies in the columns."
      ],
      "metadata": {
        "id": "sOFVecQOwv-4"
      }
    },
    {
      "cell_type": "code",
      "source": [
        "cols = df.dtypes.index\n",
        "for col in cols:\n",
        "    print(f'- {col}:')\n",
        "    print(df[col].value_counts(dropna=False))\n",
        "    print(\"\\n\\n\")"
      ],
      "metadata": {
        "colab": {
          "base_uri": "https://localhost:8080/"
        },
        "id": "tuZ9oY7ZvNKd",
        "outputId": "6d5f3b5b-c5ad-494f-b35a-f0663a7318d3"
      },
      "execution_count": null,
      "outputs": [
        {
          "output_type": "stream",
          "name": "stdout",
          "text": [
            "- Item_Weight:\n",
            "NaN       1463\n",
            "12.150      86\n",
            "17.600      82\n",
            "13.650      77\n",
            "11.800      76\n",
            "          ... \n",
            "7.275        2\n",
            "7.685        1\n",
            "9.420        1\n",
            "6.520        1\n",
            "5.400        1\n",
            "Name: Item_Weight, Length: 416, dtype: int64\n",
            "\n",
            "\n",
            "\n",
            "- Item_Fat_Content:\n",
            "Low Fat    5089\n",
            "Regular    2889\n",
            "LF          316\n",
            "reg         117\n",
            "low fat     112\n",
            "Name: Item_Fat_Content, dtype: int64\n",
            "\n",
            "\n",
            "\n",
            "- Item_Visibility:\n",
            "0.000000    526\n",
            "0.076975      3\n",
            "0.162462      2\n",
            "0.076841      2\n",
            "0.073562      2\n",
            "           ... \n",
            "0.013957      1\n",
            "0.110460      1\n",
            "0.124646      1\n",
            "0.054142      1\n",
            "0.044878      1\n",
            "Name: Item_Visibility, Length: 7880, dtype: int64\n",
            "\n",
            "\n",
            "\n",
            "- Item_Type:\n",
            "Fruits and Vegetables    1232\n",
            "Snack Foods              1200\n",
            "Household                 910\n",
            "Frozen Foods              856\n",
            "Dairy                     682\n",
            "Canned                    649\n",
            "Baking Goods              648\n",
            "Health and Hygiene        520\n",
            "Soft Drinks               445\n",
            "Meat                      425\n",
            "Breads                    251\n",
            "Hard Drinks               214\n",
            "Others                    169\n",
            "Starchy Foods             148\n",
            "Breakfast                 110\n",
            "Seafood                    64\n",
            "Name: Item_Type, dtype: int64\n",
            "\n",
            "\n",
            "\n",
            "- Item_MRP:\n",
            "172.0422    7\n",
            "170.5422    6\n",
            "196.5084    6\n",
            "188.1872    6\n",
            "142.0154    6\n",
            "           ..\n",
            "97.3384     1\n",
            "83.1934     1\n",
            "96.6752     1\n",
            "152.6682    1\n",
            "75.4670     1\n",
            "Name: Item_MRP, Length: 5938, dtype: int64\n",
            "\n",
            "\n",
            "\n",
            "- Outlet_Size:\n",
            "Medium    2793\n",
            "NaN       2410\n",
            "Small     2388\n",
            "High       932\n",
            "Name: Outlet_Size, dtype: int64\n",
            "\n",
            "\n",
            "\n",
            "- Outlet_Location_Type:\n",
            "Tier 3    3350\n",
            "Tier 2    2785\n",
            "Tier 1    2388\n",
            "Name: Outlet_Location_Type, dtype: int64\n",
            "\n",
            "\n",
            "\n",
            "- Outlet_Type:\n",
            "Supermarket Type1    5577\n",
            "Grocery Store        1083\n",
            "Supermarket Type3     935\n",
            "Supermarket Type2     928\n",
            "Name: Outlet_Type, dtype: int64\n",
            "\n",
            "\n",
            "\n",
            "- Item_Outlet_Sales:\n",
            "958.7520     17\n",
            "1342.2528    16\n",
            "703.0848     15\n",
            "1845.5976    15\n",
            "1278.3360    14\n",
            "             ..\n",
            "4124.6310     1\n",
            "6622.7126     1\n",
            "1614.5650     1\n",
            "5602.7070     1\n",
            "2778.3834     1\n",
            "Name: Item_Outlet_Sales, Length: 3493, dtype: int64\n",
            "\n",
            "\n",
            "\n"
          ]
        }
      ]
    },
    {
      "cell_type": "markdown",
      "source": [
        "### Fix Inconsistencies"
      ],
      "metadata": {
        "id": "-oMzikGzeWbJ"
      }
    },
    {
      "cell_type": "code",
      "source": [
        "df['Item_Fat_Content'] = df['Item_Fat_Content'].replace('LF', 'Low Fat')"
      ],
      "metadata": {
        "id": "wAFPbu5MeTdq"
      },
      "execution_count": null,
      "outputs": []
    },
    {
      "cell_type": "code",
      "source": [
        "df['Item_Fat_Content'] = df['Item_Fat_Content'].replace('low fat', 'Low Fat')"
      ],
      "metadata": {
        "id": "ptVhf9YBh40r"
      },
      "execution_count": null,
      "outputs": []
    },
    {
      "cell_type": "code",
      "source": [
        "df['Item_Fat_Content'] = df['Item_Fat_Content'].replace('reg', 'Regular')"
      ],
      "metadata": {
        "id": "0fnEuMNAh5Pc"
      },
      "execution_count": null,
      "outputs": []
    },
    {
      "cell_type": "code",
      "source": [
        "df['Item_Fat_Content'].value_counts()"
      ],
      "metadata": {
        "colab": {
          "base_uri": "https://localhost:8080/"
        },
        "id": "xC4kbWRmewqe",
        "outputId": "8ebee3c6-1810-4712-e385-44170934cbf2"
      },
      "execution_count": null,
      "outputs": [
        {
          "output_type": "execute_result",
          "data": {
            "text/plain": [
              "Low Fat    5517\n",
              "Regular    3006\n",
              "Name: Item_Fat_Content, dtype: int64"
            ]
          },
          "metadata": {},
          "execution_count": 654
        }
      ]
    },
    {
      "cell_type": "markdown",
      "source": [
        "###Ordinal Encoding"
      ],
      "metadata": {
        "id": "JjIhyu9iyB5M"
      }
    },
    {
      "cell_type": "markdown",
      "source": [
        "One of our categorical columns is ordinal, so I have decided to change it before splitting the data."
      ],
      "metadata": {
        "id": "pa41V1CFymBn"
      }
    },
    {
      "cell_type": "code",
      "source": [
        "df['Outlet_Size'].replace({'Small':0,'Medium':1,'High':2}, inplace=True)\n",
        "df['Outlet_Size'].value_counts()"
      ],
      "metadata": {
        "colab": {
          "base_uri": "https://localhost:8080/"
        },
        "id": "l2t0NRTwyj33",
        "outputId": "1c0ada91-044c-4a35-ea3e-dfcf6f37ecb3"
      },
      "execution_count": null,
      "outputs": [
        {
          "output_type": "execute_result",
          "data": {
            "text/plain": [
              "1.0    2793\n",
              "0.0    2388\n",
              "2.0     932\n",
              "Name: Outlet_Size, dtype: int64"
            ]
          },
          "metadata": {},
          "execution_count": 655
        }
      ]
    },
    {
      "cell_type": "markdown",
      "source": [
        "## Pre-Processing"
      ],
      "metadata": {
        "id": "JL9PTJL4bKgB"
      }
    },
    {
      "cell_type": "markdown",
      "source": [
        "###Splitting the Data"
      ],
      "metadata": {
        "id": "6O-J_KTobZ-p"
      }
    },
    {
      "cell_type": "code",
      "source": [
        "#split data\n",
        "X = df.drop(columns = 'Item_Outlet_Sales')\n",
        "y = df['Item_Outlet_Sales']\n",
        "X_train, X_test, y_train, y_test = train_test_split(X, y, random_state=42)"
      ],
      "metadata": {
        "id": "68VCzpd3bXlT"
      },
      "execution_count": null,
      "outputs": []
    },
    {
      "cell_type": "code",
      "source": [
        "len(X_train)"
      ],
      "metadata": {
        "colab": {
          "base_uri": "https://localhost:8080/"
        },
        "id": "lDSAQQ7wcwU5",
        "outputId": "97d62756-c480-41de-facc-9113f0c67f4b"
      },
      "execution_count": null,
      "outputs": [
        {
          "output_type": "execute_result",
          "data": {
            "text/plain": [
              "6392"
            ]
          },
          "metadata": {},
          "execution_count": 657
        }
      ]
    },
    {
      "cell_type": "code",
      "source": [
        "len(X_test)"
      ],
      "metadata": {
        "colab": {
          "base_uri": "https://localhost:8080/"
        },
        "id": "-SFZFA_RcwP2",
        "outputId": "af8e65da-76af-445c-c0cf-59a9b98ea694"
      },
      "execution_count": null,
      "outputs": [
        {
          "output_type": "execute_result",
          "data": {
            "text/plain": [
              "2131"
            ]
          },
          "metadata": {},
          "execution_count": 658
        }
      ]
    },
    {
      "cell_type": "code",
      "source": [
        "len(y_train)"
      ],
      "metadata": {
        "colab": {
          "base_uri": "https://localhost:8080/"
        },
        "id": "ka6rjR7DcwLd",
        "outputId": "55f3f946-4b01-47f9-c523-7ccc954153e3"
      },
      "execution_count": null,
      "outputs": [
        {
          "output_type": "execute_result",
          "data": {
            "text/plain": [
              "6392"
            ]
          },
          "metadata": {},
          "execution_count": 659
        }
      ]
    },
    {
      "cell_type": "code",
      "source": [
        "len(y_test)"
      ],
      "metadata": {
        "colab": {
          "base_uri": "https://localhost:8080/"
        },
        "id": "Wph7mMZJcwGJ",
        "outputId": "c84162bc-b0ac-4fdc-a848-e56eb7c54795"
      },
      "execution_count": null,
      "outputs": [
        {
          "output_type": "execute_result",
          "data": {
            "text/plain": [
              "2131"
            ]
          },
          "metadata": {},
          "execution_count": 660
        }
      ]
    },
    {
      "cell_type": "markdown",
      "source": [
        "## Creating Pipelines"
      ],
      "metadata": {
        "id": "fDr-kR2xc4CM"
      }
    },
    {
      "cell_type": "code",
      "source": [
        "#create categorical and numerical selectors\n",
        "cat_selector = make_column_selector(dtype_include='object')\n",
        "num_selector = make_column_selector(dtype_include='number')"
      ],
      "metadata": {
        "id": "DDQCR1Onc7ER"
      },
      "execution_count": null,
      "outputs": []
    },
    {
      "cell_type": "code",
      "source": [
        "#create categorical and numerical imputers\n",
        "mf_imputer = SimpleImputer(strategy='most_frequent')\n",
        "mean_imputer= SimpleImputer(strategy='mean')\n",
        "#create scaler for numerical values\n",
        "scaler = StandardScaler()\n",
        "#create onehotencoder for nominal values\n",
        "ohe = OneHotEncoder(handle_unknown='ignore', sparse=False)"
      ],
      "metadata": {
        "id": "FF2HduZjIyW5"
      },
      "execution_count": null,
      "outputs": []
    },
    {
      "cell_type": "code",
      "source": [
        "#create numerical pipeline\n",
        "num_pipeline = make_pipeline(mean_imputer, scaler)\n",
        "num_pipeline"
      ],
      "metadata": {
        "colab": {
          "base_uri": "https://localhost:8080/",
          "height": 126
        },
        "id": "Hryk94PeJP_4",
        "outputId": "9d9488fa-6750-4fdc-d18d-57ba136546b0"
      },
      "execution_count": null,
      "outputs": [
        {
          "output_type": "execute_result",
          "data": {
            "text/plain": [
              "Pipeline(steps=[('simpleimputer', SimpleImputer()),\n",
              "                ('standardscaler', StandardScaler())])"
            ],
            "text/html": [
              "<style>#sk-75ae7bc3-bd9b-4ba7-9dfb-84d7d0107a33 {color: black;background-color: white;}#sk-75ae7bc3-bd9b-4ba7-9dfb-84d7d0107a33 pre{padding: 0;}#sk-75ae7bc3-bd9b-4ba7-9dfb-84d7d0107a33 div.sk-toggleable {background-color: white;}#sk-75ae7bc3-bd9b-4ba7-9dfb-84d7d0107a33 label.sk-toggleable__label {cursor: pointer;display: block;width: 100%;margin-bottom: 0;padding: 0.3em;box-sizing: border-box;text-align: center;}#sk-75ae7bc3-bd9b-4ba7-9dfb-84d7d0107a33 label.sk-toggleable__label-arrow:before {content: \"▸\";float: left;margin-right: 0.25em;color: #696969;}#sk-75ae7bc3-bd9b-4ba7-9dfb-84d7d0107a33 label.sk-toggleable__label-arrow:hover:before {color: black;}#sk-75ae7bc3-bd9b-4ba7-9dfb-84d7d0107a33 div.sk-estimator:hover label.sk-toggleable__label-arrow:before {color: black;}#sk-75ae7bc3-bd9b-4ba7-9dfb-84d7d0107a33 div.sk-toggleable__content {max-height: 0;max-width: 0;overflow: hidden;text-align: left;background-color: #f0f8ff;}#sk-75ae7bc3-bd9b-4ba7-9dfb-84d7d0107a33 div.sk-toggleable__content pre {margin: 0.2em;color: black;border-radius: 0.25em;background-color: #f0f8ff;}#sk-75ae7bc3-bd9b-4ba7-9dfb-84d7d0107a33 input.sk-toggleable__control:checked~div.sk-toggleable__content {max-height: 200px;max-width: 100%;overflow: auto;}#sk-75ae7bc3-bd9b-4ba7-9dfb-84d7d0107a33 input.sk-toggleable__control:checked~label.sk-toggleable__label-arrow:before {content: \"▾\";}#sk-75ae7bc3-bd9b-4ba7-9dfb-84d7d0107a33 div.sk-estimator input.sk-toggleable__control:checked~label.sk-toggleable__label {background-color: #d4ebff;}#sk-75ae7bc3-bd9b-4ba7-9dfb-84d7d0107a33 div.sk-label input.sk-toggleable__control:checked~label.sk-toggleable__label {background-color: #d4ebff;}#sk-75ae7bc3-bd9b-4ba7-9dfb-84d7d0107a33 input.sk-hidden--visually {border: 0;clip: rect(1px 1px 1px 1px);clip: rect(1px, 1px, 1px, 1px);height: 1px;margin: -1px;overflow: hidden;padding: 0;position: absolute;width: 1px;}#sk-75ae7bc3-bd9b-4ba7-9dfb-84d7d0107a33 div.sk-estimator {font-family: monospace;background-color: #f0f8ff;border: 1px dotted black;border-radius: 0.25em;box-sizing: border-box;margin-bottom: 0.5em;}#sk-75ae7bc3-bd9b-4ba7-9dfb-84d7d0107a33 div.sk-estimator:hover {background-color: #d4ebff;}#sk-75ae7bc3-bd9b-4ba7-9dfb-84d7d0107a33 div.sk-parallel-item::after {content: \"\";width: 100%;border-bottom: 1px solid gray;flex-grow: 1;}#sk-75ae7bc3-bd9b-4ba7-9dfb-84d7d0107a33 div.sk-label:hover label.sk-toggleable__label {background-color: #d4ebff;}#sk-75ae7bc3-bd9b-4ba7-9dfb-84d7d0107a33 div.sk-serial::before {content: \"\";position: absolute;border-left: 1px solid gray;box-sizing: border-box;top: 2em;bottom: 0;left: 50%;}#sk-75ae7bc3-bd9b-4ba7-9dfb-84d7d0107a33 div.sk-serial {display: flex;flex-direction: column;align-items: center;background-color: white;padding-right: 0.2em;padding-left: 0.2em;}#sk-75ae7bc3-bd9b-4ba7-9dfb-84d7d0107a33 div.sk-item {z-index: 1;}#sk-75ae7bc3-bd9b-4ba7-9dfb-84d7d0107a33 div.sk-parallel {display: flex;align-items: stretch;justify-content: center;background-color: white;}#sk-75ae7bc3-bd9b-4ba7-9dfb-84d7d0107a33 div.sk-parallel::before {content: \"\";position: absolute;border-left: 1px solid gray;box-sizing: border-box;top: 2em;bottom: 0;left: 50%;}#sk-75ae7bc3-bd9b-4ba7-9dfb-84d7d0107a33 div.sk-parallel-item {display: flex;flex-direction: column;position: relative;background-color: white;}#sk-75ae7bc3-bd9b-4ba7-9dfb-84d7d0107a33 div.sk-parallel-item:first-child::after {align-self: flex-end;width: 50%;}#sk-75ae7bc3-bd9b-4ba7-9dfb-84d7d0107a33 div.sk-parallel-item:last-child::after {align-self: flex-start;width: 50%;}#sk-75ae7bc3-bd9b-4ba7-9dfb-84d7d0107a33 div.sk-parallel-item:only-child::after {width: 0;}#sk-75ae7bc3-bd9b-4ba7-9dfb-84d7d0107a33 div.sk-dashed-wrapped {border: 1px dashed gray;margin: 0 0.4em 0.5em 0.4em;box-sizing: border-box;padding-bottom: 0.4em;background-color: white;position: relative;}#sk-75ae7bc3-bd9b-4ba7-9dfb-84d7d0107a33 div.sk-label label {font-family: monospace;font-weight: bold;background-color: white;display: inline-block;line-height: 1.2em;}#sk-75ae7bc3-bd9b-4ba7-9dfb-84d7d0107a33 div.sk-label-container {position: relative;z-index: 2;text-align: center;}#sk-75ae7bc3-bd9b-4ba7-9dfb-84d7d0107a33 div.sk-container {/* jupyter's `normalize.less` sets `[hidden] { display: none; }` but bootstrap.min.css set `[hidden] { display: none !important; }` so we also need the `!important` here to be able to override the default hidden behavior on the sphinx rendered scikit-learn.org. See: https://github.com/scikit-learn/scikit-learn/issues/21755 */display: inline-block !important;position: relative;}#sk-75ae7bc3-bd9b-4ba7-9dfb-84d7d0107a33 div.sk-text-repr-fallback {display: none;}</style><div id=\"sk-75ae7bc3-bd9b-4ba7-9dfb-84d7d0107a33\" class=\"sk-top-container\"><div class=\"sk-text-repr-fallback\"><pre>Pipeline(steps=[(&#x27;simpleimputer&#x27;, SimpleImputer()),\n",
              "                (&#x27;standardscaler&#x27;, StandardScaler())])</pre><b>Please rerun this cell to show the HTML repr or trust the notebook.</b></div><div class=\"sk-container\" hidden><div class=\"sk-item sk-dashed-wrapped\"><div class=\"sk-label-container\"><div class=\"sk-label sk-toggleable\"><input class=\"sk-toggleable__control sk-hidden--visually\" id=\"7dbe3f52-2a9d-48da-b7ce-dadb90cbe758\" type=\"checkbox\" ><label for=\"7dbe3f52-2a9d-48da-b7ce-dadb90cbe758\" class=\"sk-toggleable__label sk-toggleable__label-arrow\">Pipeline</label><div class=\"sk-toggleable__content\"><pre>Pipeline(steps=[(&#x27;simpleimputer&#x27;, SimpleImputer()),\n",
              "                (&#x27;standardscaler&#x27;, StandardScaler())])</pre></div></div></div><div class=\"sk-serial\"><div class=\"sk-item\"><div class=\"sk-estimator sk-toggleable\"><input class=\"sk-toggleable__control sk-hidden--visually\" id=\"443f5985-63f0-47de-9f42-d785b6d8a235\" type=\"checkbox\" ><label for=\"443f5985-63f0-47de-9f42-d785b6d8a235\" class=\"sk-toggleable__label sk-toggleable__label-arrow\">SimpleImputer</label><div class=\"sk-toggleable__content\"><pre>SimpleImputer()</pre></div></div></div><div class=\"sk-item\"><div class=\"sk-estimator sk-toggleable\"><input class=\"sk-toggleable__control sk-hidden--visually\" id=\"361874ad-62dc-491f-b191-a8da3c92cf61\" type=\"checkbox\" ><label for=\"361874ad-62dc-491f-b191-a8da3c92cf61\" class=\"sk-toggleable__label sk-toggleable__label-arrow\">StandardScaler</label><div class=\"sk-toggleable__content\"><pre>StandardScaler()</pre></div></div></div></div></div></div></div>"
            ]
          },
          "metadata": {},
          "execution_count": 663
        }
      ]
    },
    {
      "cell_type": "code",
      "source": [
        "#create categorical pipeline\n",
        "cat_pipeline = make_pipeline(mf_imputer, ohe)\n",
        "cat_pipeline"
      ],
      "metadata": {
        "colab": {
          "base_uri": "https://localhost:8080/",
          "height": 126
        },
        "id": "U5jHYk6pJbX2",
        "outputId": "f8f6563a-09fb-4723-a058-21024000d808"
      },
      "execution_count": null,
      "outputs": [
        {
          "output_type": "execute_result",
          "data": {
            "text/plain": [
              "Pipeline(steps=[('simpleimputer', SimpleImputer(strategy='most_frequent')),\n",
              "                ('onehotencoder',\n",
              "                 OneHotEncoder(handle_unknown='ignore', sparse=False))])"
            ],
            "text/html": [
              "<style>#sk-06ff9134-7d7a-4edf-aef8-4947e3d52de9 {color: black;background-color: white;}#sk-06ff9134-7d7a-4edf-aef8-4947e3d52de9 pre{padding: 0;}#sk-06ff9134-7d7a-4edf-aef8-4947e3d52de9 div.sk-toggleable {background-color: white;}#sk-06ff9134-7d7a-4edf-aef8-4947e3d52de9 label.sk-toggleable__label {cursor: pointer;display: block;width: 100%;margin-bottom: 0;padding: 0.3em;box-sizing: border-box;text-align: center;}#sk-06ff9134-7d7a-4edf-aef8-4947e3d52de9 label.sk-toggleable__label-arrow:before {content: \"▸\";float: left;margin-right: 0.25em;color: #696969;}#sk-06ff9134-7d7a-4edf-aef8-4947e3d52de9 label.sk-toggleable__label-arrow:hover:before {color: black;}#sk-06ff9134-7d7a-4edf-aef8-4947e3d52de9 div.sk-estimator:hover label.sk-toggleable__label-arrow:before {color: black;}#sk-06ff9134-7d7a-4edf-aef8-4947e3d52de9 div.sk-toggleable__content {max-height: 0;max-width: 0;overflow: hidden;text-align: left;background-color: #f0f8ff;}#sk-06ff9134-7d7a-4edf-aef8-4947e3d52de9 div.sk-toggleable__content pre {margin: 0.2em;color: black;border-radius: 0.25em;background-color: #f0f8ff;}#sk-06ff9134-7d7a-4edf-aef8-4947e3d52de9 input.sk-toggleable__control:checked~div.sk-toggleable__content {max-height: 200px;max-width: 100%;overflow: auto;}#sk-06ff9134-7d7a-4edf-aef8-4947e3d52de9 input.sk-toggleable__control:checked~label.sk-toggleable__label-arrow:before {content: \"▾\";}#sk-06ff9134-7d7a-4edf-aef8-4947e3d52de9 div.sk-estimator input.sk-toggleable__control:checked~label.sk-toggleable__label {background-color: #d4ebff;}#sk-06ff9134-7d7a-4edf-aef8-4947e3d52de9 div.sk-label input.sk-toggleable__control:checked~label.sk-toggleable__label {background-color: #d4ebff;}#sk-06ff9134-7d7a-4edf-aef8-4947e3d52de9 input.sk-hidden--visually {border: 0;clip: rect(1px 1px 1px 1px);clip: rect(1px, 1px, 1px, 1px);height: 1px;margin: -1px;overflow: hidden;padding: 0;position: absolute;width: 1px;}#sk-06ff9134-7d7a-4edf-aef8-4947e3d52de9 div.sk-estimator {font-family: monospace;background-color: #f0f8ff;border: 1px dotted black;border-radius: 0.25em;box-sizing: border-box;margin-bottom: 0.5em;}#sk-06ff9134-7d7a-4edf-aef8-4947e3d52de9 div.sk-estimator:hover {background-color: #d4ebff;}#sk-06ff9134-7d7a-4edf-aef8-4947e3d52de9 div.sk-parallel-item::after {content: \"\";width: 100%;border-bottom: 1px solid gray;flex-grow: 1;}#sk-06ff9134-7d7a-4edf-aef8-4947e3d52de9 div.sk-label:hover label.sk-toggleable__label {background-color: #d4ebff;}#sk-06ff9134-7d7a-4edf-aef8-4947e3d52de9 div.sk-serial::before {content: \"\";position: absolute;border-left: 1px solid gray;box-sizing: border-box;top: 2em;bottom: 0;left: 50%;}#sk-06ff9134-7d7a-4edf-aef8-4947e3d52de9 div.sk-serial {display: flex;flex-direction: column;align-items: center;background-color: white;padding-right: 0.2em;padding-left: 0.2em;}#sk-06ff9134-7d7a-4edf-aef8-4947e3d52de9 div.sk-item {z-index: 1;}#sk-06ff9134-7d7a-4edf-aef8-4947e3d52de9 div.sk-parallel {display: flex;align-items: stretch;justify-content: center;background-color: white;}#sk-06ff9134-7d7a-4edf-aef8-4947e3d52de9 div.sk-parallel::before {content: \"\";position: absolute;border-left: 1px solid gray;box-sizing: border-box;top: 2em;bottom: 0;left: 50%;}#sk-06ff9134-7d7a-4edf-aef8-4947e3d52de9 div.sk-parallel-item {display: flex;flex-direction: column;position: relative;background-color: white;}#sk-06ff9134-7d7a-4edf-aef8-4947e3d52de9 div.sk-parallel-item:first-child::after {align-self: flex-end;width: 50%;}#sk-06ff9134-7d7a-4edf-aef8-4947e3d52de9 div.sk-parallel-item:last-child::after {align-self: flex-start;width: 50%;}#sk-06ff9134-7d7a-4edf-aef8-4947e3d52de9 div.sk-parallel-item:only-child::after {width: 0;}#sk-06ff9134-7d7a-4edf-aef8-4947e3d52de9 div.sk-dashed-wrapped {border: 1px dashed gray;margin: 0 0.4em 0.5em 0.4em;box-sizing: border-box;padding-bottom: 0.4em;background-color: white;position: relative;}#sk-06ff9134-7d7a-4edf-aef8-4947e3d52de9 div.sk-label label {font-family: monospace;font-weight: bold;background-color: white;display: inline-block;line-height: 1.2em;}#sk-06ff9134-7d7a-4edf-aef8-4947e3d52de9 div.sk-label-container {position: relative;z-index: 2;text-align: center;}#sk-06ff9134-7d7a-4edf-aef8-4947e3d52de9 div.sk-container {/* jupyter's `normalize.less` sets `[hidden] { display: none; }` but bootstrap.min.css set `[hidden] { display: none !important; }` so we also need the `!important` here to be able to override the default hidden behavior on the sphinx rendered scikit-learn.org. See: https://github.com/scikit-learn/scikit-learn/issues/21755 */display: inline-block !important;position: relative;}#sk-06ff9134-7d7a-4edf-aef8-4947e3d52de9 div.sk-text-repr-fallback {display: none;}</style><div id=\"sk-06ff9134-7d7a-4edf-aef8-4947e3d52de9\" class=\"sk-top-container\"><div class=\"sk-text-repr-fallback\"><pre>Pipeline(steps=[(&#x27;simpleimputer&#x27;, SimpleImputer(strategy=&#x27;most_frequent&#x27;)),\n",
              "                (&#x27;onehotencoder&#x27;,\n",
              "                 OneHotEncoder(handle_unknown=&#x27;ignore&#x27;, sparse=False))])</pre><b>Please rerun this cell to show the HTML repr or trust the notebook.</b></div><div class=\"sk-container\" hidden><div class=\"sk-item sk-dashed-wrapped\"><div class=\"sk-label-container\"><div class=\"sk-label sk-toggleable\"><input class=\"sk-toggleable__control sk-hidden--visually\" id=\"134f01b6-d748-408c-8ce8-05f2d10ed2dc\" type=\"checkbox\" ><label for=\"134f01b6-d748-408c-8ce8-05f2d10ed2dc\" class=\"sk-toggleable__label sk-toggleable__label-arrow\">Pipeline</label><div class=\"sk-toggleable__content\"><pre>Pipeline(steps=[(&#x27;simpleimputer&#x27;, SimpleImputer(strategy=&#x27;most_frequent&#x27;)),\n",
              "                (&#x27;onehotencoder&#x27;,\n",
              "                 OneHotEncoder(handle_unknown=&#x27;ignore&#x27;, sparse=False))])</pre></div></div></div><div class=\"sk-serial\"><div class=\"sk-item\"><div class=\"sk-estimator sk-toggleable\"><input class=\"sk-toggleable__control sk-hidden--visually\" id=\"43e98ebd-6d11-4848-bdf1-48b1833f483b\" type=\"checkbox\" ><label for=\"43e98ebd-6d11-4848-bdf1-48b1833f483b\" class=\"sk-toggleable__label sk-toggleable__label-arrow\">SimpleImputer</label><div class=\"sk-toggleable__content\"><pre>SimpleImputer(strategy=&#x27;most_frequent&#x27;)</pre></div></div></div><div class=\"sk-item\"><div class=\"sk-estimator sk-toggleable\"><input class=\"sk-toggleable__control sk-hidden--visually\" id=\"497acd25-df6c-4bef-9afb-da79ff125ab5\" type=\"checkbox\" ><label for=\"497acd25-df6c-4bef-9afb-da79ff125ab5\" class=\"sk-toggleable__label sk-toggleable__label-arrow\">OneHotEncoder</label><div class=\"sk-toggleable__content\"><pre>OneHotEncoder(handle_unknown=&#x27;ignore&#x27;, sparse=False)</pre></div></div></div></div></div></div></div>"
            ]
          },
          "metadata": {},
          "execution_count": 664
        }
      ]
    },
    {
      "cell_type": "markdown",
      "source": [
        "##Creating the Column Transformer"
      ],
      "metadata": {
        "id": "9WZGDHn9QKl1"
      }
    },
    {
      "cell_type": "code",
      "source": [
        "#create tuples for numeric and categorical processors\n",
        "nums = (num_pipeline, num_selector)\n",
        "cats = (cat_pipeline, cat_selector)\n",
        "#create column transformer with tuples\n",
        "column_transformer = make_column_transformer(nums, cats, remainder = 'passthrough')"
      ],
      "metadata": {
        "id": "C-1iecTGLGwI"
      },
      "execution_count": null,
      "outputs": []
    },
    {
      "cell_type": "code",
      "source": [
        "#fit the column transformer on training data only\n",
        "column_transformer.fit(X_train)"
      ],
      "metadata": {
        "colab": {
          "base_uri": "https://localhost:8080/",
          "height": 152
        },
        "id": "QeDpeAp7Lnn7",
        "outputId": "d15b91c8-21ff-478c-d824-25d204553b18"
      },
      "execution_count": null,
      "outputs": [
        {
          "output_type": "execute_result",
          "data": {
            "text/plain": [
              "ColumnTransformer(remainder='passthrough',\n",
              "                  transformers=[('pipeline-1',\n",
              "                                 Pipeline(steps=[('simpleimputer',\n",
              "                                                  SimpleImputer()),\n",
              "                                                 ('standardscaler',\n",
              "                                                  StandardScaler())]),\n",
              "                                 <sklearn.compose._column_transformer.make_column_selector object at 0x7f834631f710>),\n",
              "                                ('pipeline-2',\n",
              "                                 Pipeline(steps=[('simpleimputer',\n",
              "                                                  SimpleImputer(strategy='most_frequent')),\n",
              "                                                 ('onehotencoder',\n",
              "                                                  OneHotEncoder(handle_unknown='ignore',\n",
              "                                                                sparse=False))]),\n",
              "                                 <sklearn.compose._column_transformer.make_column_selector object at 0x7f834631f3d0>)])"
            ],
            "text/html": [
              "<style>#sk-d736c6f6-9020-4dc6-b889-21f4a8438832 {color: black;background-color: white;}#sk-d736c6f6-9020-4dc6-b889-21f4a8438832 pre{padding: 0;}#sk-d736c6f6-9020-4dc6-b889-21f4a8438832 div.sk-toggleable {background-color: white;}#sk-d736c6f6-9020-4dc6-b889-21f4a8438832 label.sk-toggleable__label {cursor: pointer;display: block;width: 100%;margin-bottom: 0;padding: 0.3em;box-sizing: border-box;text-align: center;}#sk-d736c6f6-9020-4dc6-b889-21f4a8438832 label.sk-toggleable__label-arrow:before {content: \"▸\";float: left;margin-right: 0.25em;color: #696969;}#sk-d736c6f6-9020-4dc6-b889-21f4a8438832 label.sk-toggleable__label-arrow:hover:before {color: black;}#sk-d736c6f6-9020-4dc6-b889-21f4a8438832 div.sk-estimator:hover label.sk-toggleable__label-arrow:before {color: black;}#sk-d736c6f6-9020-4dc6-b889-21f4a8438832 div.sk-toggleable__content {max-height: 0;max-width: 0;overflow: hidden;text-align: left;background-color: #f0f8ff;}#sk-d736c6f6-9020-4dc6-b889-21f4a8438832 div.sk-toggleable__content pre {margin: 0.2em;color: black;border-radius: 0.25em;background-color: #f0f8ff;}#sk-d736c6f6-9020-4dc6-b889-21f4a8438832 input.sk-toggleable__control:checked~div.sk-toggleable__content {max-height: 200px;max-width: 100%;overflow: auto;}#sk-d736c6f6-9020-4dc6-b889-21f4a8438832 input.sk-toggleable__control:checked~label.sk-toggleable__label-arrow:before {content: \"▾\";}#sk-d736c6f6-9020-4dc6-b889-21f4a8438832 div.sk-estimator input.sk-toggleable__control:checked~label.sk-toggleable__label {background-color: #d4ebff;}#sk-d736c6f6-9020-4dc6-b889-21f4a8438832 div.sk-label input.sk-toggleable__control:checked~label.sk-toggleable__label {background-color: #d4ebff;}#sk-d736c6f6-9020-4dc6-b889-21f4a8438832 input.sk-hidden--visually {border: 0;clip: rect(1px 1px 1px 1px);clip: rect(1px, 1px, 1px, 1px);height: 1px;margin: -1px;overflow: hidden;padding: 0;position: absolute;width: 1px;}#sk-d736c6f6-9020-4dc6-b889-21f4a8438832 div.sk-estimator {font-family: monospace;background-color: #f0f8ff;border: 1px dotted black;border-radius: 0.25em;box-sizing: border-box;margin-bottom: 0.5em;}#sk-d736c6f6-9020-4dc6-b889-21f4a8438832 div.sk-estimator:hover {background-color: #d4ebff;}#sk-d736c6f6-9020-4dc6-b889-21f4a8438832 div.sk-parallel-item::after {content: \"\";width: 100%;border-bottom: 1px solid gray;flex-grow: 1;}#sk-d736c6f6-9020-4dc6-b889-21f4a8438832 div.sk-label:hover label.sk-toggleable__label {background-color: #d4ebff;}#sk-d736c6f6-9020-4dc6-b889-21f4a8438832 div.sk-serial::before {content: \"\";position: absolute;border-left: 1px solid gray;box-sizing: border-box;top: 2em;bottom: 0;left: 50%;}#sk-d736c6f6-9020-4dc6-b889-21f4a8438832 div.sk-serial {display: flex;flex-direction: column;align-items: center;background-color: white;padding-right: 0.2em;padding-left: 0.2em;}#sk-d736c6f6-9020-4dc6-b889-21f4a8438832 div.sk-item {z-index: 1;}#sk-d736c6f6-9020-4dc6-b889-21f4a8438832 div.sk-parallel {display: flex;align-items: stretch;justify-content: center;background-color: white;}#sk-d736c6f6-9020-4dc6-b889-21f4a8438832 div.sk-parallel::before {content: \"\";position: absolute;border-left: 1px solid gray;box-sizing: border-box;top: 2em;bottom: 0;left: 50%;}#sk-d736c6f6-9020-4dc6-b889-21f4a8438832 div.sk-parallel-item {display: flex;flex-direction: column;position: relative;background-color: white;}#sk-d736c6f6-9020-4dc6-b889-21f4a8438832 div.sk-parallel-item:first-child::after {align-self: flex-end;width: 50%;}#sk-d736c6f6-9020-4dc6-b889-21f4a8438832 div.sk-parallel-item:last-child::after {align-self: flex-start;width: 50%;}#sk-d736c6f6-9020-4dc6-b889-21f4a8438832 div.sk-parallel-item:only-child::after {width: 0;}#sk-d736c6f6-9020-4dc6-b889-21f4a8438832 div.sk-dashed-wrapped {border: 1px dashed gray;margin: 0 0.4em 0.5em 0.4em;box-sizing: border-box;padding-bottom: 0.4em;background-color: white;position: relative;}#sk-d736c6f6-9020-4dc6-b889-21f4a8438832 div.sk-label label {font-family: monospace;font-weight: bold;background-color: white;display: inline-block;line-height: 1.2em;}#sk-d736c6f6-9020-4dc6-b889-21f4a8438832 div.sk-label-container {position: relative;z-index: 2;text-align: center;}#sk-d736c6f6-9020-4dc6-b889-21f4a8438832 div.sk-container {/* jupyter's `normalize.less` sets `[hidden] { display: none; }` but bootstrap.min.css set `[hidden] { display: none !important; }` so we also need the `!important` here to be able to override the default hidden behavior on the sphinx rendered scikit-learn.org. See: https://github.com/scikit-learn/scikit-learn/issues/21755 */display: inline-block !important;position: relative;}#sk-d736c6f6-9020-4dc6-b889-21f4a8438832 div.sk-text-repr-fallback {display: none;}</style><div id=\"sk-d736c6f6-9020-4dc6-b889-21f4a8438832\" class=\"sk-top-container\"><div class=\"sk-text-repr-fallback\"><pre>ColumnTransformer(remainder=&#x27;passthrough&#x27;,\n",
              "                  transformers=[(&#x27;pipeline-1&#x27;,\n",
              "                                 Pipeline(steps=[(&#x27;simpleimputer&#x27;,\n",
              "                                                  SimpleImputer()),\n",
              "                                                 (&#x27;standardscaler&#x27;,\n",
              "                                                  StandardScaler())]),\n",
              "                                 &lt;sklearn.compose._column_transformer.make_column_selector object at 0x7f834631f710&gt;),\n",
              "                                (&#x27;pipeline-2&#x27;,\n",
              "                                 Pipeline(steps=[(&#x27;simpleimputer&#x27;,\n",
              "                                                  SimpleImputer(strategy=&#x27;most_frequent&#x27;)),\n",
              "                                                 (&#x27;onehotencoder&#x27;,\n",
              "                                                  OneHotEncoder(handle_unknown=&#x27;ignore&#x27;,\n",
              "                                                                sparse=False))]),\n",
              "                                 &lt;sklearn.compose._column_transformer.make_column_selector object at 0x7f834631f3d0&gt;)])</pre><b>Please rerun this cell to show the HTML repr or trust the notebook.</b></div><div class=\"sk-container\" hidden><div class=\"sk-item sk-dashed-wrapped\"><div class=\"sk-label-container\"><div class=\"sk-label sk-toggleable\"><input class=\"sk-toggleable__control sk-hidden--visually\" id=\"788ea183-7f14-41df-a701-6b1b23b82223\" type=\"checkbox\" ><label for=\"788ea183-7f14-41df-a701-6b1b23b82223\" class=\"sk-toggleable__label sk-toggleable__label-arrow\">ColumnTransformer</label><div class=\"sk-toggleable__content\"><pre>ColumnTransformer(remainder=&#x27;passthrough&#x27;,\n",
              "                  transformers=[(&#x27;pipeline-1&#x27;,\n",
              "                                 Pipeline(steps=[(&#x27;simpleimputer&#x27;,\n",
              "                                                  SimpleImputer()),\n",
              "                                                 (&#x27;standardscaler&#x27;,\n",
              "                                                  StandardScaler())]),\n",
              "                                 &lt;sklearn.compose._column_transformer.make_column_selector object at 0x7f834631f710&gt;),\n",
              "                                (&#x27;pipeline-2&#x27;,\n",
              "                                 Pipeline(steps=[(&#x27;simpleimputer&#x27;,\n",
              "                                                  SimpleImputer(strategy=&#x27;most_frequent&#x27;)),\n",
              "                                                 (&#x27;onehotencoder&#x27;,\n",
              "                                                  OneHotEncoder(handle_unknown=&#x27;ignore&#x27;,\n",
              "                                                                sparse=False))]),\n",
              "                                 &lt;sklearn.compose._column_transformer.make_column_selector object at 0x7f834631f3d0&gt;)])</pre></div></div></div><div class=\"sk-parallel\"><div class=\"sk-parallel-item\"><div class=\"sk-item\"><div class=\"sk-label-container\"><div class=\"sk-label sk-toggleable\"><input class=\"sk-toggleable__control sk-hidden--visually\" id=\"ce8c0bf3-4cc3-4418-8562-79dad35ce8b1\" type=\"checkbox\" ><label for=\"ce8c0bf3-4cc3-4418-8562-79dad35ce8b1\" class=\"sk-toggleable__label sk-toggleable__label-arrow\">pipeline-1</label><div class=\"sk-toggleable__content\"><pre>&lt;sklearn.compose._column_transformer.make_column_selector object at 0x7f834631f710&gt;</pre></div></div></div><div class=\"sk-serial\"><div class=\"sk-item\"><div class=\"sk-serial\"><div class=\"sk-item\"><div class=\"sk-estimator sk-toggleable\"><input class=\"sk-toggleable__control sk-hidden--visually\" id=\"9d70e1f6-4e18-4815-940d-a1091e7466ad\" type=\"checkbox\" ><label for=\"9d70e1f6-4e18-4815-940d-a1091e7466ad\" class=\"sk-toggleable__label sk-toggleable__label-arrow\">SimpleImputer</label><div class=\"sk-toggleable__content\"><pre>SimpleImputer()</pre></div></div></div><div class=\"sk-item\"><div class=\"sk-estimator sk-toggleable\"><input class=\"sk-toggleable__control sk-hidden--visually\" id=\"65335d7f-3a34-49f3-85f8-59a2c17a73ad\" type=\"checkbox\" ><label for=\"65335d7f-3a34-49f3-85f8-59a2c17a73ad\" class=\"sk-toggleable__label sk-toggleable__label-arrow\">StandardScaler</label><div class=\"sk-toggleable__content\"><pre>StandardScaler()</pre></div></div></div></div></div></div></div></div><div class=\"sk-parallel-item\"><div class=\"sk-item\"><div class=\"sk-label-container\"><div class=\"sk-label sk-toggleable\"><input class=\"sk-toggleable__control sk-hidden--visually\" id=\"fb2ea2d9-1cb5-463d-9eb0-62de6025cacd\" type=\"checkbox\" ><label for=\"fb2ea2d9-1cb5-463d-9eb0-62de6025cacd\" class=\"sk-toggleable__label sk-toggleable__label-arrow\">pipeline-2</label><div class=\"sk-toggleable__content\"><pre>&lt;sklearn.compose._column_transformer.make_column_selector object at 0x7f834631f3d0&gt;</pre></div></div></div><div class=\"sk-serial\"><div class=\"sk-item\"><div class=\"sk-serial\"><div class=\"sk-item\"><div class=\"sk-estimator sk-toggleable\"><input class=\"sk-toggleable__control sk-hidden--visually\" id=\"3ca0954d-5290-473e-9c43-55526c2c4868\" type=\"checkbox\" ><label for=\"3ca0954d-5290-473e-9c43-55526c2c4868\" class=\"sk-toggleable__label sk-toggleable__label-arrow\">SimpleImputer</label><div class=\"sk-toggleable__content\"><pre>SimpleImputer(strategy=&#x27;most_frequent&#x27;)</pre></div></div></div><div class=\"sk-item\"><div class=\"sk-estimator sk-toggleable\"><input class=\"sk-toggleable__control sk-hidden--visually\" id=\"0d26a78f-3d88-4ef2-9c27-4d0c0696ac3d\" type=\"checkbox\" ><label for=\"0d26a78f-3d88-4ef2-9c27-4d0c0696ac3d\" class=\"sk-toggleable__label sk-toggleable__label-arrow\">OneHotEncoder</label><div class=\"sk-toggleable__content\"><pre>OneHotEncoder(handle_unknown=&#x27;ignore&#x27;, sparse=False)</pre></div></div></div></div></div></div></div></div><div class=\"sk-parallel-item\"><div class=\"sk-item\"><div class=\"sk-label-container\"><div class=\"sk-label sk-toggleable\"><input class=\"sk-toggleable__control sk-hidden--visually\" id=\"f65e1410-bee8-4479-8b49-be74032b5b38\" type=\"checkbox\" ><label for=\"f65e1410-bee8-4479-8b49-be74032b5b38\" class=\"sk-toggleable__label sk-toggleable__label-arrow\">remainder</label><div class=\"sk-toggleable__content\"><pre>[]</pre></div></div></div><div class=\"sk-serial\"><div class=\"sk-item\"><div class=\"sk-estimator sk-toggleable\"><input class=\"sk-toggleable__control sk-hidden--visually\" id=\"5b884283-054f-4b93-a8a3-0f4b47e09451\" type=\"checkbox\" ><label for=\"5b884283-054f-4b93-a8a3-0f4b47e09451\" class=\"sk-toggleable__label sk-toggleable__label-arrow\">passthrough</label><div class=\"sk-toggleable__content\"><pre>passthrough</pre></div></div></div></div></div></div></div></div></div></div>"
            ]
          },
          "metadata": {},
          "execution_count": 666
        }
      ]
    },
    {
      "cell_type": "code",
      "source": [
        "#transform training and testing data\n",
        "X_train = column_transformer.transform(X_train)\n",
        "X_test = column_transformer.transform(X_test)\n",
        "#view numpy array of data\n",
        "X_train"
      ],
      "metadata": {
        "colab": {
          "base_uri": "https://localhost:8080/"
        },
        "id": "qw6rotUDL0Ac",
        "outputId": "be674e4c-add9-4356-a1ea-68fab2979cf0"
      },
      "execution_count": null,
      "outputs": [
        {
          "output_type": "execute_result",
          "data": {
            "text/plain": [
              "array([[ 0.81724868, -0.71277507,  1.82810922, ...,  0.        ,\n",
              "         1.        ,  0.        ],\n",
              "       [ 0.5563395 , -1.29105225,  0.60336888, ...,  0.        ,\n",
              "         1.        ,  0.        ],\n",
              "       [-0.13151196,  1.81331864,  0.24454056, ...,  1.        ,\n",
              "         0.        ,  0.        ],\n",
              "       ...,\n",
              "       [ 1.11373638, -0.92052713,  1.52302674, ...,  1.        ,\n",
              "         0.        ,  0.        ],\n",
              "       [ 1.76600931, -0.2277552 , -0.38377708, ...,  1.        ,\n",
              "         0.        ,  0.        ],\n",
              "       [ 0.81724868, -0.95867683, -0.73836105, ...,  1.        ,\n",
              "         0.        ,  0.        ]])"
            ]
          },
          "metadata": {},
          "execution_count": 667
        }
      ]
    },
    {
      "cell_type": "markdown",
      "source": [
        "##Creating the Model"
      ],
      "metadata": {
        "id": "LYLL7ro8IwpZ"
      }
    },
    {
      "cell_type": "code",
      "source": [
        "#create linear regression model\n",
        "reg_model = LinearRegression()\n",
        "#fit training data on model\n",
        "reg_model.fit(X_train, y_train)"
      ],
      "metadata": {
        "id": "oqkvZbG8_FEn",
        "colab": {
          "base_uri": "https://localhost:8080/",
          "height": 75
        },
        "outputId": "91582a4d-6620-4757-b355-342703fa45e3"
      },
      "execution_count": null,
      "outputs": [
        {
          "output_type": "execute_result",
          "data": {
            "text/plain": [
              "LinearRegression()"
            ],
            "text/html": [
              "<style>#sk-21f7f400-8810-4343-941d-69c85ca6472a {color: black;background-color: white;}#sk-21f7f400-8810-4343-941d-69c85ca6472a pre{padding: 0;}#sk-21f7f400-8810-4343-941d-69c85ca6472a div.sk-toggleable {background-color: white;}#sk-21f7f400-8810-4343-941d-69c85ca6472a label.sk-toggleable__label {cursor: pointer;display: block;width: 100%;margin-bottom: 0;padding: 0.3em;box-sizing: border-box;text-align: center;}#sk-21f7f400-8810-4343-941d-69c85ca6472a label.sk-toggleable__label-arrow:before {content: \"▸\";float: left;margin-right: 0.25em;color: #696969;}#sk-21f7f400-8810-4343-941d-69c85ca6472a label.sk-toggleable__label-arrow:hover:before {color: black;}#sk-21f7f400-8810-4343-941d-69c85ca6472a div.sk-estimator:hover label.sk-toggleable__label-arrow:before {color: black;}#sk-21f7f400-8810-4343-941d-69c85ca6472a div.sk-toggleable__content {max-height: 0;max-width: 0;overflow: hidden;text-align: left;background-color: #f0f8ff;}#sk-21f7f400-8810-4343-941d-69c85ca6472a div.sk-toggleable__content pre {margin: 0.2em;color: black;border-radius: 0.25em;background-color: #f0f8ff;}#sk-21f7f400-8810-4343-941d-69c85ca6472a input.sk-toggleable__control:checked~div.sk-toggleable__content {max-height: 200px;max-width: 100%;overflow: auto;}#sk-21f7f400-8810-4343-941d-69c85ca6472a input.sk-toggleable__control:checked~label.sk-toggleable__label-arrow:before {content: \"▾\";}#sk-21f7f400-8810-4343-941d-69c85ca6472a div.sk-estimator input.sk-toggleable__control:checked~label.sk-toggleable__label {background-color: #d4ebff;}#sk-21f7f400-8810-4343-941d-69c85ca6472a div.sk-label input.sk-toggleable__control:checked~label.sk-toggleable__label {background-color: #d4ebff;}#sk-21f7f400-8810-4343-941d-69c85ca6472a input.sk-hidden--visually {border: 0;clip: rect(1px 1px 1px 1px);clip: rect(1px, 1px, 1px, 1px);height: 1px;margin: -1px;overflow: hidden;padding: 0;position: absolute;width: 1px;}#sk-21f7f400-8810-4343-941d-69c85ca6472a div.sk-estimator {font-family: monospace;background-color: #f0f8ff;border: 1px dotted black;border-radius: 0.25em;box-sizing: border-box;margin-bottom: 0.5em;}#sk-21f7f400-8810-4343-941d-69c85ca6472a div.sk-estimator:hover {background-color: #d4ebff;}#sk-21f7f400-8810-4343-941d-69c85ca6472a div.sk-parallel-item::after {content: \"\";width: 100%;border-bottom: 1px solid gray;flex-grow: 1;}#sk-21f7f400-8810-4343-941d-69c85ca6472a div.sk-label:hover label.sk-toggleable__label {background-color: #d4ebff;}#sk-21f7f400-8810-4343-941d-69c85ca6472a div.sk-serial::before {content: \"\";position: absolute;border-left: 1px solid gray;box-sizing: border-box;top: 2em;bottom: 0;left: 50%;}#sk-21f7f400-8810-4343-941d-69c85ca6472a div.sk-serial {display: flex;flex-direction: column;align-items: center;background-color: white;padding-right: 0.2em;padding-left: 0.2em;}#sk-21f7f400-8810-4343-941d-69c85ca6472a div.sk-item {z-index: 1;}#sk-21f7f400-8810-4343-941d-69c85ca6472a div.sk-parallel {display: flex;align-items: stretch;justify-content: center;background-color: white;}#sk-21f7f400-8810-4343-941d-69c85ca6472a div.sk-parallel::before {content: \"\";position: absolute;border-left: 1px solid gray;box-sizing: border-box;top: 2em;bottom: 0;left: 50%;}#sk-21f7f400-8810-4343-941d-69c85ca6472a div.sk-parallel-item {display: flex;flex-direction: column;position: relative;background-color: white;}#sk-21f7f400-8810-4343-941d-69c85ca6472a div.sk-parallel-item:first-child::after {align-self: flex-end;width: 50%;}#sk-21f7f400-8810-4343-941d-69c85ca6472a div.sk-parallel-item:last-child::after {align-self: flex-start;width: 50%;}#sk-21f7f400-8810-4343-941d-69c85ca6472a div.sk-parallel-item:only-child::after {width: 0;}#sk-21f7f400-8810-4343-941d-69c85ca6472a div.sk-dashed-wrapped {border: 1px dashed gray;margin: 0 0.4em 0.5em 0.4em;box-sizing: border-box;padding-bottom: 0.4em;background-color: white;position: relative;}#sk-21f7f400-8810-4343-941d-69c85ca6472a div.sk-label label {font-family: monospace;font-weight: bold;background-color: white;display: inline-block;line-height: 1.2em;}#sk-21f7f400-8810-4343-941d-69c85ca6472a div.sk-label-container {position: relative;z-index: 2;text-align: center;}#sk-21f7f400-8810-4343-941d-69c85ca6472a div.sk-container {/* jupyter's `normalize.less` sets `[hidden] { display: none; }` but bootstrap.min.css set `[hidden] { display: none !important; }` so we also need the `!important` here to be able to override the default hidden behavior on the sphinx rendered scikit-learn.org. See: https://github.com/scikit-learn/scikit-learn/issues/21755 */display: inline-block !important;position: relative;}#sk-21f7f400-8810-4343-941d-69c85ca6472a div.sk-text-repr-fallback {display: none;}</style><div id=\"sk-21f7f400-8810-4343-941d-69c85ca6472a\" class=\"sk-top-container\"><div class=\"sk-text-repr-fallback\"><pre>LinearRegression()</pre><b>Please rerun this cell to show the HTML repr or trust the notebook.</b></div><div class=\"sk-container\" hidden><div class=\"sk-item\"><div class=\"sk-estimator sk-toggleable\"><input class=\"sk-toggleable__control sk-hidden--visually\" id=\"6dde74a9-ea56-4232-ae76-71f492ca8031\" type=\"checkbox\" checked><label for=\"6dde74a9-ea56-4232-ae76-71f492ca8031\" class=\"sk-toggleable__label sk-toggleable__label-arrow\">LinearRegression</label><div class=\"sk-toggleable__content\"><pre>LinearRegression()</pre></div></div></div></div></div>"
            ]
          },
          "metadata": {},
          "execution_count": 668
        }
      ]
    },
    {
      "cell_type": "markdown",
      "source": [
        "##Make Predictions"
      ],
      "metadata": {
        "id": "0oDJQJJoI82S"
      }
    },
    {
      "cell_type": "code",
      "source": [
        "#use model to predict \n",
        "train_p = reg_model.predict(X_train)\n",
        "test_p = reg_model.predict(X_test )"
      ],
      "metadata": {
        "id": "6UgMw5O2nfcE"
      },
      "execution_count": null,
      "outputs": []
    },
    {
      "cell_type": "code",
      "source": [
        "#print predictions\n",
        "print(f'Training Predictions\\n{train_p}\\n')\n",
        "print(f'Testing Predictions\\n{test_p}\\n')"
      ],
      "metadata": {
        "colab": {
          "base_uri": "https://localhost:8080/"
        },
        "id": "m7OiU3XUpWhy",
        "outputId": "8c89e40c-f5ff-42e5-b85a-139d567b7c2a"
      },
      "execution_count": null,
      "outputs": [
        {
          "output_type": "stream",
          "name": "stdout",
          "text": [
            "Training Predictions\n",
            "[3809. 2657. 2564. ... 3848. 1905. 1596.]\n",
            "\n",
            "Testing Predictions\n",
            "[1349.   776.5  834.5 ... 3414.  1976.5 2433. ]\n",
            "\n"
          ]
        }
      ]
    },
    {
      "cell_type": "markdown",
      "source": [
        "##Creating a Function"
      ],
      "metadata": {
        "id": "Z7h5pKsgKyFR"
      }
    },
    {
      "cell_type": "markdown",
      "source": [
        "I am going to create a functinon that gives us all of the accuracy metrics for a given model."
      ],
      "metadata": {
        "id": "b6Xv4KPCK1_i"
      }
    },
    {
      "cell_type": "code",
      "source": [
        "def get_metrics(model):\n",
        "  #find R2\n",
        "  train_r2 = r2_score(y_train, train_p)\n",
        "  test_r2 = r2_score(y_test, test_p)\n",
        "  #print R2\n",
        "  print(f'Training R2 - {train_r2}')\n",
        "  print(f'Testing R2 - {test_r2}\\n')\n",
        "\n",
        "  #find MAE\n",
        "  train_MAE = mean_absolute_error(y_train, train_p)\n",
        "  test_MAE = mean_absolute_error(y_test, test_p)\n",
        "  #print MAE\n",
        "  print(f'Training MAE - {train_MAE}')\n",
        "  print(f'Testing MAE - {test_MAE}\\n')\n",
        "\n",
        "  #find MSE\n",
        "  train_MSE = mean_squared_error(y_train, train_p)\n",
        "  test_MSE = mean_squared_error(y_test, test_p)\n",
        "  #print MSE\n",
        "  print(f'Training MSE - {train_MSE}')\n",
        "  print(f'Testing MSE - {test_MSE}\\n')\n",
        "\n",
        "  #find RMSE\n",
        "  train_RMSE = np.sqrt(train_MSE)\n",
        "  test_RMSE = np.sqrt(test_MSE)\n",
        "  #print RMSE\n",
        "  print(f'Training RMSE - {train_RMSE}')\n",
        "  print(f'Testing RMSE - {test_RMSE}\\n')"
      ],
      "metadata": {
        "id": "eZlrvBXKK9xw"
      },
      "execution_count": null,
      "outputs": []
    },
    {
      "cell_type": "code",
      "source": [
        "#apply function to model\n",
        "get_metrics(reg_model)"
      ],
      "metadata": {
        "colab": {
          "base_uri": "https://localhost:8080/"
        },
        "id": "ytKa599JLe3Z",
        "outputId": "8ccc2006-97ac-4371-8cde-830f2762ea8c"
      },
      "execution_count": null,
      "outputs": [
        {
          "output_type": "stream",
          "name": "stdout",
          "text": [
            "Training R2 - 0.5605682085766622\n",
            "Testing R2 - 0.5657150148289058\n",
            "\n",
            "Training MAE - 847.5511586357948\n",
            "Testing MAE - 805.6106213045518\n",
            "\n",
            "Training MSE - 1300478.9218781218\n",
            "Testing MSE - 1198182.4105224987\n",
            "\n",
            "Training RMSE - 1140.3854268965918\n",
            "Testing RMSE - 1094.6151883298983\n",
            "\n"
          ]
        }
      ]
    },
    {
      "cell_type": "markdown",
      "source": [
        "According to the R2, the model can predict about 56% of the variance of the target."
      ],
      "metadata": {
        "id": "6vlf-AxzMcjS"
      }
    },
    {
      "cell_type": "markdown",
      "source": [
        "Given that the mean sale is around $2200, an RMSE of 1140 is quite large."
      ],
      "metadata": {
        "id": "kdHXXFo8Mxog"
      }
    },
    {
      "cell_type": "markdown",
      "source": [
        "##Descision Tree Regressor"
      ],
      "metadata": {
        "id": "bxdKtZxjN5mQ"
      }
    },
    {
      "cell_type": "code",
      "source": [
        "#create decision tree regressor\n",
        "dec_tree = DecisionTreeRegressor(random_state = 42)"
      ],
      "metadata": {
        "id": "IXJlYVy-8qhM"
      },
      "execution_count": null,
      "outputs": []
    },
    {
      "cell_type": "code",
      "source": [
        "#fit data\n",
        "dec_tree.fit(X_train, y_train)"
      ],
      "metadata": {
        "colab": {
          "base_uri": "https://localhost:8080/",
          "height": 75
        },
        "id": "NBnHQu4S8sJ4",
        "outputId": "453636c2-a870-448e-c8da-4b388e524b22"
      },
      "execution_count": null,
      "outputs": [
        {
          "output_type": "execute_result",
          "data": {
            "text/plain": [
              "DecisionTreeRegressor(random_state=42)"
            ],
            "text/html": [
              "<style>#sk-9168a14e-f677-4922-9f19-692dda00aba6 {color: black;background-color: white;}#sk-9168a14e-f677-4922-9f19-692dda00aba6 pre{padding: 0;}#sk-9168a14e-f677-4922-9f19-692dda00aba6 div.sk-toggleable {background-color: white;}#sk-9168a14e-f677-4922-9f19-692dda00aba6 label.sk-toggleable__label {cursor: pointer;display: block;width: 100%;margin-bottom: 0;padding: 0.3em;box-sizing: border-box;text-align: center;}#sk-9168a14e-f677-4922-9f19-692dda00aba6 label.sk-toggleable__label-arrow:before {content: \"▸\";float: left;margin-right: 0.25em;color: #696969;}#sk-9168a14e-f677-4922-9f19-692dda00aba6 label.sk-toggleable__label-arrow:hover:before {color: black;}#sk-9168a14e-f677-4922-9f19-692dda00aba6 div.sk-estimator:hover label.sk-toggleable__label-arrow:before {color: black;}#sk-9168a14e-f677-4922-9f19-692dda00aba6 div.sk-toggleable__content {max-height: 0;max-width: 0;overflow: hidden;text-align: left;background-color: #f0f8ff;}#sk-9168a14e-f677-4922-9f19-692dda00aba6 div.sk-toggleable__content pre {margin: 0.2em;color: black;border-radius: 0.25em;background-color: #f0f8ff;}#sk-9168a14e-f677-4922-9f19-692dda00aba6 input.sk-toggleable__control:checked~div.sk-toggleable__content {max-height: 200px;max-width: 100%;overflow: auto;}#sk-9168a14e-f677-4922-9f19-692dda00aba6 input.sk-toggleable__control:checked~label.sk-toggleable__label-arrow:before {content: \"▾\";}#sk-9168a14e-f677-4922-9f19-692dda00aba6 div.sk-estimator input.sk-toggleable__control:checked~label.sk-toggleable__label {background-color: #d4ebff;}#sk-9168a14e-f677-4922-9f19-692dda00aba6 div.sk-label input.sk-toggleable__control:checked~label.sk-toggleable__label {background-color: #d4ebff;}#sk-9168a14e-f677-4922-9f19-692dda00aba6 input.sk-hidden--visually {border: 0;clip: rect(1px 1px 1px 1px);clip: rect(1px, 1px, 1px, 1px);height: 1px;margin: -1px;overflow: hidden;padding: 0;position: absolute;width: 1px;}#sk-9168a14e-f677-4922-9f19-692dda00aba6 div.sk-estimator {font-family: monospace;background-color: #f0f8ff;border: 1px dotted black;border-radius: 0.25em;box-sizing: border-box;margin-bottom: 0.5em;}#sk-9168a14e-f677-4922-9f19-692dda00aba6 div.sk-estimator:hover {background-color: #d4ebff;}#sk-9168a14e-f677-4922-9f19-692dda00aba6 div.sk-parallel-item::after {content: \"\";width: 100%;border-bottom: 1px solid gray;flex-grow: 1;}#sk-9168a14e-f677-4922-9f19-692dda00aba6 div.sk-label:hover label.sk-toggleable__label {background-color: #d4ebff;}#sk-9168a14e-f677-4922-9f19-692dda00aba6 div.sk-serial::before {content: \"\";position: absolute;border-left: 1px solid gray;box-sizing: border-box;top: 2em;bottom: 0;left: 50%;}#sk-9168a14e-f677-4922-9f19-692dda00aba6 div.sk-serial {display: flex;flex-direction: column;align-items: center;background-color: white;padding-right: 0.2em;padding-left: 0.2em;}#sk-9168a14e-f677-4922-9f19-692dda00aba6 div.sk-item {z-index: 1;}#sk-9168a14e-f677-4922-9f19-692dda00aba6 div.sk-parallel {display: flex;align-items: stretch;justify-content: center;background-color: white;}#sk-9168a14e-f677-4922-9f19-692dda00aba6 div.sk-parallel::before {content: \"\";position: absolute;border-left: 1px solid gray;box-sizing: border-box;top: 2em;bottom: 0;left: 50%;}#sk-9168a14e-f677-4922-9f19-692dda00aba6 div.sk-parallel-item {display: flex;flex-direction: column;position: relative;background-color: white;}#sk-9168a14e-f677-4922-9f19-692dda00aba6 div.sk-parallel-item:first-child::after {align-self: flex-end;width: 50%;}#sk-9168a14e-f677-4922-9f19-692dda00aba6 div.sk-parallel-item:last-child::after {align-self: flex-start;width: 50%;}#sk-9168a14e-f677-4922-9f19-692dda00aba6 div.sk-parallel-item:only-child::after {width: 0;}#sk-9168a14e-f677-4922-9f19-692dda00aba6 div.sk-dashed-wrapped {border: 1px dashed gray;margin: 0 0.4em 0.5em 0.4em;box-sizing: border-box;padding-bottom: 0.4em;background-color: white;position: relative;}#sk-9168a14e-f677-4922-9f19-692dda00aba6 div.sk-label label {font-family: monospace;font-weight: bold;background-color: white;display: inline-block;line-height: 1.2em;}#sk-9168a14e-f677-4922-9f19-692dda00aba6 div.sk-label-container {position: relative;z-index: 2;text-align: center;}#sk-9168a14e-f677-4922-9f19-692dda00aba6 div.sk-container {/* jupyter's `normalize.less` sets `[hidden] { display: none; }` but bootstrap.min.css set `[hidden] { display: none !important; }` so we also need the `!important` here to be able to override the default hidden behavior on the sphinx rendered scikit-learn.org. See: https://github.com/scikit-learn/scikit-learn/issues/21755 */display: inline-block !important;position: relative;}#sk-9168a14e-f677-4922-9f19-692dda00aba6 div.sk-text-repr-fallback {display: none;}</style><div id=\"sk-9168a14e-f677-4922-9f19-692dda00aba6\" class=\"sk-top-container\"><div class=\"sk-text-repr-fallback\"><pre>DecisionTreeRegressor(random_state=42)</pre><b>Please rerun this cell to show the HTML repr or trust the notebook.</b></div><div class=\"sk-container\" hidden><div class=\"sk-item\"><div class=\"sk-estimator sk-toggleable\"><input class=\"sk-toggleable__control sk-hidden--visually\" id=\"057eab42-3438-41c4-a6c8-9c2004bcf661\" type=\"checkbox\" checked><label for=\"057eab42-3438-41c4-a6c8-9c2004bcf661\" class=\"sk-toggleable__label sk-toggleable__label-arrow\">DecisionTreeRegressor</label><div class=\"sk-toggleable__content\"><pre>DecisionTreeRegressor(random_state=42)</pre></div></div></div></div></div>"
            ]
          },
          "metadata": {},
          "execution_count": 674
        }
      ]
    },
    {
      "cell_type": "code",
      "source": [
        "#make predictions\n",
        "train_p = dec_tree.predict(X_train)\n",
        "test_p = dec_tree.predict(X_test)"
      ],
      "metadata": {
        "id": "T75wCKR39G1j"
      },
      "execution_count": null,
      "outputs": []
    },
    {
      "cell_type": "code",
      "source": [
        "#get scores\n",
        "train_score = dec_tree.score(X_train, y_train)\n",
        "test_score = dec_tree.score(X_test, y_test)\n",
        "print(train_score)\n",
        "print(test_score)"
      ],
      "metadata": {
        "colab": {
          "base_uri": "https://localhost:8080/"
        },
        "id": "gP7Ddexb9Ub7",
        "outputId": "a503ce4c-05cb-4f2d-8dc4-b9b2496c47cd"
      },
      "execution_count": null,
      "outputs": [
        {
          "output_type": "stream",
          "name": "stdout",
          "text": [
            "1.0\n",
            "0.17210839420595614\n"
          ]
        }
      ]
    },
    {
      "cell_type": "markdown",
      "source": [
        "The training score is perfect, while the test score is very low. This implies overfitting."
      ],
      "metadata": {
        "id": "nXQL4brkORpg"
      }
    },
    {
      "cell_type": "markdown",
      "source": [
        "##Hypertuning"
      ],
      "metadata": {
        "id": "xpt63v-XWa8N"
      }
    },
    {
      "cell_type": "code",
      "source": [
        "#get parameters\n",
        "dec_tree.get_params()"
      ],
      "metadata": {
        "colab": {
          "base_uri": "https://localhost:8080/"
        },
        "id": "LJZgjhPH9ljx",
        "outputId": "9e17963a-81de-42a8-9e7f-370cacd47bb4"
      },
      "execution_count": null,
      "outputs": [
        {
          "output_type": "execute_result",
          "data": {
            "text/plain": [
              "{'ccp_alpha': 0.0,\n",
              " 'criterion': 'squared_error',\n",
              " 'max_depth': None,\n",
              " 'max_features': None,\n",
              " 'max_leaf_nodes': None,\n",
              " 'min_impurity_decrease': 0.0,\n",
              " 'min_samples_leaf': 1,\n",
              " 'min_samples_split': 2,\n",
              " 'min_weight_fraction_leaf': 0.0,\n",
              " 'random_state': 42,\n",
              " 'splitter': 'best'}"
            ]
          },
          "metadata": {},
          "execution_count": 677
        }
      ]
    },
    {
      "cell_type": "code",
      "source": [
        "#get depth\n",
        "dec_tree.get_depth()"
      ],
      "metadata": {
        "colab": {
          "base_uri": "https://localhost:8080/"
        },
        "id": "kNgenVGJ9pe2",
        "outputId": "dca79d45-272a-4b0d-fec8-e5242bc797e7"
      },
      "execution_count": null,
      "outputs": [
        {
          "output_type": "execute_result",
          "data": {
            "text/plain": [
              "42"
            ]
          },
          "metadata": {},
          "execution_count": 678
        }
      ]
    },
    {
      "cell_type": "markdown",
      "source": [
        "The max depth was 42, so we need the try lower depths to find the best model."
      ],
      "metadata": {
        "id": "izXS5NZsv-CW"
      }
    },
    {
      "cell_type": "code",
      "source": [
        "#iterate through all depths and find the highest test score\n",
        "depths = list(range(2, 42))\n",
        "scores = pd.DataFrame(index=depths, columns=['Test Score','Train Score'])\n",
        "for depth in depths:\n",
        "  dec_tree = DecisionTreeRegressor(max_depth=depth, random_state=42)\n",
        "  dec_tree.fit(X_train, y_train)\n",
        "  train_score = dec_tree.score(X_train, y_train)\n",
        "  test_score = dec_tree.score(X_test, y_test)\n",
        "  scores.loc[depth, 'Train Score'] = train_score\n",
        "  scores.loc[depth, 'Test Score'] = test_score\n",
        "sorted_scores = scores.sort_values(by='Test Score', ascending=False)\n",
        "print(sorted_scores.head())"
      ],
      "metadata": {
        "colab": {
          "base_uri": "https://localhost:8080/"
        },
        "id": "yeExjtHLCCg3",
        "outputId": "57620696-8f3a-4379-cf02-ddb781cecf51"
      },
      "execution_count": null,
      "outputs": [
        {
          "output_type": "stream",
          "name": "stdout",
          "text": [
            "  Test Score Train Score\n",
            "5    0.59471     0.60394\n",
            "4   0.584005    0.582625\n",
            "6   0.582356    0.615072\n",
            "7   0.578891    0.626453\n",
            "8   0.563151    0.642791\n"
          ]
        }
      ]
    },
    {
      "cell_type": "code",
      "source": [
        "#create best decision tree regressor\n",
        "best_dec_tree = DecisionTreeRegressor(random_state = 42, max_depth=5)"
      ],
      "metadata": {
        "id": "M9n27BfoXLxm"
      },
      "execution_count": null,
      "outputs": []
    },
    {
      "cell_type": "code",
      "source": [
        "#fit data\n",
        "best_dec_tree.fit(X_train, y_train)"
      ],
      "metadata": {
        "colab": {
          "base_uri": "https://localhost:8080/",
          "height": 75
        },
        "outputId": "aa9c6a2f-a96a-4638-e6a8-6452b5ee7975",
        "id": "-0iQUKWOXLxn"
      },
      "execution_count": null,
      "outputs": [
        {
          "output_type": "execute_result",
          "data": {
            "text/plain": [
              "DecisionTreeRegressor(max_depth=5, random_state=42)"
            ],
            "text/html": [
              "<style>#sk-cc9b02e2-c2ab-4fc2-80c5-bfc688e6b8da {color: black;background-color: white;}#sk-cc9b02e2-c2ab-4fc2-80c5-bfc688e6b8da pre{padding: 0;}#sk-cc9b02e2-c2ab-4fc2-80c5-bfc688e6b8da div.sk-toggleable {background-color: white;}#sk-cc9b02e2-c2ab-4fc2-80c5-bfc688e6b8da label.sk-toggleable__label {cursor: pointer;display: block;width: 100%;margin-bottom: 0;padding: 0.3em;box-sizing: border-box;text-align: center;}#sk-cc9b02e2-c2ab-4fc2-80c5-bfc688e6b8da label.sk-toggleable__label-arrow:before {content: \"▸\";float: left;margin-right: 0.25em;color: #696969;}#sk-cc9b02e2-c2ab-4fc2-80c5-bfc688e6b8da label.sk-toggleable__label-arrow:hover:before {color: black;}#sk-cc9b02e2-c2ab-4fc2-80c5-bfc688e6b8da div.sk-estimator:hover label.sk-toggleable__label-arrow:before {color: black;}#sk-cc9b02e2-c2ab-4fc2-80c5-bfc688e6b8da div.sk-toggleable__content {max-height: 0;max-width: 0;overflow: hidden;text-align: left;background-color: #f0f8ff;}#sk-cc9b02e2-c2ab-4fc2-80c5-bfc688e6b8da div.sk-toggleable__content pre {margin: 0.2em;color: black;border-radius: 0.25em;background-color: #f0f8ff;}#sk-cc9b02e2-c2ab-4fc2-80c5-bfc688e6b8da input.sk-toggleable__control:checked~div.sk-toggleable__content {max-height: 200px;max-width: 100%;overflow: auto;}#sk-cc9b02e2-c2ab-4fc2-80c5-bfc688e6b8da input.sk-toggleable__control:checked~label.sk-toggleable__label-arrow:before {content: \"▾\";}#sk-cc9b02e2-c2ab-4fc2-80c5-bfc688e6b8da div.sk-estimator input.sk-toggleable__control:checked~label.sk-toggleable__label {background-color: #d4ebff;}#sk-cc9b02e2-c2ab-4fc2-80c5-bfc688e6b8da div.sk-label input.sk-toggleable__control:checked~label.sk-toggleable__label {background-color: #d4ebff;}#sk-cc9b02e2-c2ab-4fc2-80c5-bfc688e6b8da input.sk-hidden--visually {border: 0;clip: rect(1px 1px 1px 1px);clip: rect(1px, 1px, 1px, 1px);height: 1px;margin: -1px;overflow: hidden;padding: 0;position: absolute;width: 1px;}#sk-cc9b02e2-c2ab-4fc2-80c5-bfc688e6b8da div.sk-estimator {font-family: monospace;background-color: #f0f8ff;border: 1px dotted black;border-radius: 0.25em;box-sizing: border-box;margin-bottom: 0.5em;}#sk-cc9b02e2-c2ab-4fc2-80c5-bfc688e6b8da div.sk-estimator:hover {background-color: #d4ebff;}#sk-cc9b02e2-c2ab-4fc2-80c5-bfc688e6b8da div.sk-parallel-item::after {content: \"\";width: 100%;border-bottom: 1px solid gray;flex-grow: 1;}#sk-cc9b02e2-c2ab-4fc2-80c5-bfc688e6b8da div.sk-label:hover label.sk-toggleable__label {background-color: #d4ebff;}#sk-cc9b02e2-c2ab-4fc2-80c5-bfc688e6b8da div.sk-serial::before {content: \"\";position: absolute;border-left: 1px solid gray;box-sizing: border-box;top: 2em;bottom: 0;left: 50%;}#sk-cc9b02e2-c2ab-4fc2-80c5-bfc688e6b8da div.sk-serial {display: flex;flex-direction: column;align-items: center;background-color: white;padding-right: 0.2em;padding-left: 0.2em;}#sk-cc9b02e2-c2ab-4fc2-80c5-bfc688e6b8da div.sk-item {z-index: 1;}#sk-cc9b02e2-c2ab-4fc2-80c5-bfc688e6b8da div.sk-parallel {display: flex;align-items: stretch;justify-content: center;background-color: white;}#sk-cc9b02e2-c2ab-4fc2-80c5-bfc688e6b8da div.sk-parallel::before {content: \"\";position: absolute;border-left: 1px solid gray;box-sizing: border-box;top: 2em;bottom: 0;left: 50%;}#sk-cc9b02e2-c2ab-4fc2-80c5-bfc688e6b8da div.sk-parallel-item {display: flex;flex-direction: column;position: relative;background-color: white;}#sk-cc9b02e2-c2ab-4fc2-80c5-bfc688e6b8da div.sk-parallel-item:first-child::after {align-self: flex-end;width: 50%;}#sk-cc9b02e2-c2ab-4fc2-80c5-bfc688e6b8da div.sk-parallel-item:last-child::after {align-self: flex-start;width: 50%;}#sk-cc9b02e2-c2ab-4fc2-80c5-bfc688e6b8da div.sk-parallel-item:only-child::after {width: 0;}#sk-cc9b02e2-c2ab-4fc2-80c5-bfc688e6b8da div.sk-dashed-wrapped {border: 1px dashed gray;margin: 0 0.4em 0.5em 0.4em;box-sizing: border-box;padding-bottom: 0.4em;background-color: white;position: relative;}#sk-cc9b02e2-c2ab-4fc2-80c5-bfc688e6b8da div.sk-label label {font-family: monospace;font-weight: bold;background-color: white;display: inline-block;line-height: 1.2em;}#sk-cc9b02e2-c2ab-4fc2-80c5-bfc688e6b8da div.sk-label-container {position: relative;z-index: 2;text-align: center;}#sk-cc9b02e2-c2ab-4fc2-80c5-bfc688e6b8da div.sk-container {/* jupyter's `normalize.less` sets `[hidden] { display: none; }` but bootstrap.min.css set `[hidden] { display: none !important; }` so we also need the `!important` here to be able to override the default hidden behavior on the sphinx rendered scikit-learn.org. See: https://github.com/scikit-learn/scikit-learn/issues/21755 */display: inline-block !important;position: relative;}#sk-cc9b02e2-c2ab-4fc2-80c5-bfc688e6b8da div.sk-text-repr-fallback {display: none;}</style><div id=\"sk-cc9b02e2-c2ab-4fc2-80c5-bfc688e6b8da\" class=\"sk-top-container\"><div class=\"sk-text-repr-fallback\"><pre>DecisionTreeRegressor(max_depth=5, random_state=42)</pre><b>Please rerun this cell to show the HTML repr or trust the notebook.</b></div><div class=\"sk-container\" hidden><div class=\"sk-item\"><div class=\"sk-estimator sk-toggleable\"><input class=\"sk-toggleable__control sk-hidden--visually\" id=\"8eec8f11-c697-46b8-a3a3-63da999667c7\" type=\"checkbox\" checked><label for=\"8eec8f11-c697-46b8-a3a3-63da999667c7\" class=\"sk-toggleable__label sk-toggleable__label-arrow\">DecisionTreeRegressor</label><div class=\"sk-toggleable__content\"><pre>DecisionTreeRegressor(max_depth=5, random_state=42)</pre></div></div></div></div></div>"
            ]
          },
          "metadata": {},
          "execution_count": 681
        }
      ]
    },
    {
      "cell_type": "code",
      "source": [
        "#make predictions\n",
        "train_p = best_dec_tree.predict(X_train)\n",
        "test_p = best_dec_tree.predict(X_test)"
      ],
      "metadata": {
        "id": "3jmCClkMXLxo"
      },
      "execution_count": null,
      "outputs": []
    },
    {
      "cell_type": "code",
      "source": [
        "#get scores\n",
        "train_score = best_dec_tree.score(X_train, y_train)\n",
        "test_score = best_dec_tree.score(X_test, y_test)\n",
        "print(train_score)\n",
        "print(test_score)"
      ],
      "metadata": {
        "colab": {
          "base_uri": "https://localhost:8080/"
        },
        "outputId": "5d074234-38f1-4bc4-b08b-576b3c20c165",
        "id": "XG7kJuehXLxo"
      },
      "execution_count": null,
      "outputs": [
        {
          "output_type": "stream",
          "name": "stdout",
          "text": [
            "0.6039397477322956\n",
            "0.5947099753159972\n"
          ]
        }
      ]
    },
    {
      "cell_type": "code",
      "source": [
        "#apply the function to get metrics\n",
        "get_metrics(best_dec_tree)"
      ],
      "metadata": {
        "colab": {
          "base_uri": "https://localhost:8080/"
        },
        "id": "l4s56YOjXcDX",
        "outputId": "630ad759-0a72-4f9d-f87c-8c9616220027"
      },
      "execution_count": null,
      "outputs": [
        {
          "output_type": "stream",
          "name": "stdout",
          "text": [
            "Training R2 - 0.6039397477322956\n",
            "Testing R2 - 0.5947099753159972\n",
            "\n",
            "Training MAE - 762.6101695559576\n",
            "Testing MAE - 738.3173097797822\n",
            "\n",
            "Training MSE - 1172122.7729098853\n",
            "Testing MSE - 1118185.973077762\n",
            "\n",
            "Training RMSE - 1082.6461900869947\n",
            "Testing RMSE - 1057.4431299496734\n",
            "\n"
          ]
        }
      ]
    },
    {
      "cell_type": "markdown",
      "source": [
        "I would use the decision tree over the linear regression model. The decision tree is a better model, but only slightly. It's R2 is higher meaning that it can predict more variance in the target. Also, it's RSME is lower, which means it has lower errors."
      ],
      "metadata": {
        "id": "WK6tXl-QY2qD"
      }
    }
  ]
}